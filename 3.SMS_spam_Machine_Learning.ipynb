{
 "cells": [
  {
   "cell_type": "markdown",
   "id": "450d8924",
   "metadata": {},
   "source": [
    "## Import Relevant packages"
   ]
  },
  {
   "cell_type": "code",
   "execution_count": 1,
   "id": "1b50c009",
   "metadata": {},
   "outputs": [],
   "source": [
    "import pandas as pd\n",
    "import numpy as np\n",
    "import os\n",
    "\n",
    "# For Data Visualisation\n",
    "import seaborn as sns\n",
    "import matplotlib.pyplot as plt\n",
    "from sklearn.metrics import confusion_matrix, accuracy_score\n",
    "from collections import Counter\n",
    "\n",
    "# For Data Preparation\n",
    "from wordcloud import WordCloud, STOPWORDS\n",
    "from sklearn.feature_extraction.text import ENGLISH_STOP_WORDS\n",
    "from sklearn.tree import plot_tree\n",
    "import re\n",
    "\n",
    "# For Machine Learning\n",
    "from sklearn.model_selection import train_test_split\n",
    "from sklearn.feature_extraction.text import TfidfVectorizer\n",
    "from sklearn.naive_bayes import MultinomialNB\n",
    "from sklearn.svm import SVC\n",
    "from sklearn.ensemble import RandomForestClassifier\n",
    "from __future__ import division\n",
    "from sklearn.linear_model import LogisticRegression\n",
    "from sklearn.model_selection import cross_val_score, KFold\n",
    "\n",
    "# For Evaluation of Results\n",
    "from sklearn.metrics import f1_score\n",
    "from sklearn import metrics\n",
    "\n",
    "# For Product\n",
    "from IPython.display import HTML\n",
    "from termcolor import colored\n",
    "from pyfiglet import Figlet\n",
    "\n",
    "pd.options.mode.chained_assignment = None"
   ]
  },
  {
   "cell_type": "markdown",
   "id": "e4a56541",
   "metadata": {},
   "source": [
    "## Importing of Dataset"
   ]
  },
  {
   "cell_type": "markdown",
   "id": "80a10219",
   "metadata": {},
   "source": [
    "Our dataset has 5 columns:\n",
    "\n",
    "'v1': States whether the message is 'ham' (non-spam) or 'spam'\n",
    "\n",
    "'v2': The content of the message\n",
    "\n",
    "'Unnamed: 2': Contains some text, most of the cells are empty\n",
    "\n",
    "'Unnamed: 3': Contains some text, most of the cells are empty\n",
    "\n",
    "'Unnamed: 4': Contains some text, most of the cells are empty\n",
    "\n",
    "\n",
    "Let's explore the dataset and do some preliminary cleaning."
   ]
  },
  {
   "cell_type": "code",
   "execution_count": 2,
   "id": "350c6735",
   "metadata": {},
   "outputs": [
    {
     "data": {
      "text/plain": [
       "(5572, 5)"
      ]
     },
     "execution_count": 2,
     "metadata": {},
     "output_type": "execute_result"
    }
   ],
   "source": [
    "df = pd.read_csv('spam.csv', encoding='iso-8859-1')\n",
    "df.shape"
   ]
  },
  {
   "cell_type": "code",
   "execution_count": 3,
   "id": "77f2325c",
   "metadata": {},
   "outputs": [
    {
     "data": {
      "text/html": [
       "<div>\n",
       "<style scoped>\n",
       "    .dataframe tbody tr th:only-of-type {\n",
       "        vertical-align: middle;\n",
       "    }\n",
       "\n",
       "    .dataframe tbody tr th {\n",
       "        vertical-align: top;\n",
       "    }\n",
       "\n",
       "    .dataframe thead th {\n",
       "        text-align: right;\n",
       "    }\n",
       "</style>\n",
       "<table border=\"1\" class=\"dataframe\">\n",
       "  <thead>\n",
       "    <tr style=\"text-align: right;\">\n",
       "      <th></th>\n",
       "      <th>v1</th>\n",
       "      <th>v2</th>\n",
       "      <th>Unnamed: 2</th>\n",
       "      <th>Unnamed: 3</th>\n",
       "      <th>Unnamed: 4</th>\n",
       "    </tr>\n",
       "  </thead>\n",
       "  <tbody>\n",
       "    <tr>\n",
       "      <th>0</th>\n",
       "      <td>ham</td>\n",
       "      <td>Go until jurong point, crazy.. Available only ...</td>\n",
       "      <td>NaN</td>\n",
       "      <td>NaN</td>\n",
       "      <td>NaN</td>\n",
       "    </tr>\n",
       "    <tr>\n",
       "      <th>1</th>\n",
       "      <td>ham</td>\n",
       "      <td>Ok lar... Joking wif u oni...</td>\n",
       "      <td>NaN</td>\n",
       "      <td>NaN</td>\n",
       "      <td>NaN</td>\n",
       "    </tr>\n",
       "    <tr>\n",
       "      <th>2</th>\n",
       "      <td>spam</td>\n",
       "      <td>Free entry in 2 a wkly comp to win FA Cup fina...</td>\n",
       "      <td>NaN</td>\n",
       "      <td>NaN</td>\n",
       "      <td>NaN</td>\n",
       "    </tr>\n",
       "    <tr>\n",
       "      <th>3</th>\n",
       "      <td>ham</td>\n",
       "      <td>U dun say so early hor... U c already then say...</td>\n",
       "      <td>NaN</td>\n",
       "      <td>NaN</td>\n",
       "      <td>NaN</td>\n",
       "    </tr>\n",
       "    <tr>\n",
       "      <th>4</th>\n",
       "      <td>ham</td>\n",
       "      <td>Nah I don't think he goes to usf, he lives aro...</td>\n",
       "      <td>NaN</td>\n",
       "      <td>NaN</td>\n",
       "      <td>NaN</td>\n",
       "    </tr>\n",
       "  </tbody>\n",
       "</table>\n",
       "</div>"
      ],
      "text/plain": [
       "     v1                                                 v2 Unnamed: 2  \\\n",
       "0   ham  Go until jurong point, crazy.. Available only ...        NaN   \n",
       "1   ham                      Ok lar... Joking wif u oni...        NaN   \n",
       "2  spam  Free entry in 2 a wkly comp to win FA Cup fina...        NaN   \n",
       "3   ham  U dun say so early hor... U c already then say...        NaN   \n",
       "4   ham  Nah I don't think he goes to usf, he lives aro...        NaN   \n",
       "\n",
       "  Unnamed: 3 Unnamed: 4  \n",
       "0        NaN        NaN  \n",
       "1        NaN        NaN  \n",
       "2        NaN        NaN  \n",
       "3        NaN        NaN  \n",
       "4        NaN        NaN  "
      ]
     },
     "execution_count": 3,
     "metadata": {},
     "output_type": "execute_result"
    }
   ],
   "source": [
    "df.head()"
   ]
  },
  {
   "cell_type": "code",
   "execution_count": 4,
   "id": "de900cde",
   "metadata": {},
   "outputs": [
    {
     "name": "stdout",
     "output_type": "stream",
     "text": [
      "<class 'pandas.core.frame.DataFrame'>\n",
      "RangeIndex: 5572 entries, 0 to 5571\n",
      "Data columns (total 5 columns):\n",
      " #   Column      Non-Null Count  Dtype \n",
      "---  ------      --------------  ----- \n",
      " 0   v1          5572 non-null   object\n",
      " 1   v2          5572 non-null   object\n",
      " 2   Unnamed: 2  50 non-null     object\n",
      " 3   Unnamed: 3  12 non-null     object\n",
      " 4   Unnamed: 4  6 non-null      object\n",
      "dtypes: object(5)\n",
      "memory usage: 217.8+ KB\n"
     ]
    }
   ],
   "source": [
    "df.info()"
   ]
  },
  {
   "cell_type": "markdown",
   "id": "15f05fbb",
   "metadata": {},
   "source": [
    "At first glance, it's unclear what the 'Unnamed' columns are for. Let's take a look."
   ]
  },
  {
   "cell_type": "code",
   "execution_count": 5,
   "id": "5f3fe246",
   "metadata": {},
   "outputs": [
    {
     "data": {
      "text/html": [
       "<div>\n",
       "<style scoped>\n",
       "    .dataframe tbody tr th:only-of-type {\n",
       "        vertical-align: middle;\n",
       "    }\n",
       "\n",
       "    .dataframe tbody tr th {\n",
       "        vertical-align: top;\n",
       "    }\n",
       "\n",
       "    .dataframe thead th {\n",
       "        text-align: right;\n",
       "    }\n",
       "</style>\n",
       "<table border=\"1\" class=\"dataframe\">\n",
       "  <thead>\n",
       "    <tr style=\"text-align: right;\">\n",
       "      <th></th>\n",
       "      <th>v1</th>\n",
       "      <th>v2</th>\n",
       "      <th>Unnamed: 2</th>\n",
       "      <th>Unnamed: 3</th>\n",
       "      <th>Unnamed: 4</th>\n",
       "    </tr>\n",
       "  </thead>\n",
       "  <tbody>\n",
       "    <tr>\n",
       "      <th>95</th>\n",
       "      <td>spam</td>\n",
       "      <td>Your free ringtone is waiting to be collected....</td>\n",
       "      <td>PO Box 5249</td>\n",
       "      <td>MK17 92H. 450Ppw 16\"</td>\n",
       "      <td>NaN</td>\n",
       "    </tr>\n",
       "    <tr>\n",
       "      <th>281</th>\n",
       "      <td>ham</td>\n",
       "      <td>\\Wen u miss someone</td>\n",
       "      <td>the person is definitely special for u..... B...</td>\n",
       "      <td>why to miss them</td>\n",
       "      <td>just Keep-in-touch\\\" gdeve..\"</td>\n",
       "    </tr>\n",
       "    <tr>\n",
       "      <th>444</th>\n",
       "      <td>ham</td>\n",
       "      <td>\\HEY HEY WERETHE MONKEESPEOPLE SAY WE MONKEYAR...</td>\n",
       "      <td>HOWU DOIN? FOUNDURSELF A JOBYET SAUSAGE?LOVE ...</td>\n",
       "      <td>NaN</td>\n",
       "      <td>NaN</td>\n",
       "    </tr>\n",
       "    <tr>\n",
       "      <th>671</th>\n",
       "      <td>spam</td>\n",
       "      <td>SMS. ac sun0819 posts HELLO:\\You seem cool</td>\n",
       "      <td>wanted to say hi. HI!!!\\\" Stop? Send STOP to ...</td>\n",
       "      <td>NaN</td>\n",
       "      <td>NaN</td>\n",
       "    </tr>\n",
       "    <tr>\n",
       "      <th>710</th>\n",
       "      <td>ham</td>\n",
       "      <td>Height of Confidence: All the Aeronautics prof...</td>\n",
       "      <td>this wont even start........ Datz confidence..\"</td>\n",
       "      <td>NaN</td>\n",
       "      <td>NaN</td>\n",
       "    </tr>\n",
       "    <tr>\n",
       "      <th>899</th>\n",
       "      <td>spam</td>\n",
       "      <td>Your free ringtone is waiting to be collected....</td>\n",
       "      <td>PO Box 5249</td>\n",
       "      <td>MK17 92H. 450Ppw 16\"</td>\n",
       "      <td>NaN</td>\n",
       "    </tr>\n",
       "    <tr>\n",
       "      <th>1038</th>\n",
       "      <td>ham</td>\n",
       "      <td>Edison has rightly said, \\A fool can ask more ...</td>\n",
       "      <td>GN</td>\n",
       "      <td>GE</td>\n",
       "      <td>GNT:-)\"</td>\n",
       "    </tr>\n",
       "    <tr>\n",
       "      <th>1127</th>\n",
       "      <td>ham</td>\n",
       "      <td>Height of \\Oh shit....!!\\\" situation: A guy th...</td>\n",
       "      <td>.;-):-D\"</td>\n",
       "      <td>NaN</td>\n",
       "      <td>NaN</td>\n",
       "    </tr>\n",
       "    <tr>\n",
       "      <th>1266</th>\n",
       "      <td>ham</td>\n",
       "      <td>\\Hey sorry I didntgive ya a a bellearlier hunny</td>\n",
       "      <td>just been in bedbut mite go 2 thepub l8tr if u...</td>\n",
       "      <td>NaN</td>\n",
       "      <td>NaN</td>\n",
       "    </tr>\n",
       "    <tr>\n",
       "      <th>1384</th>\n",
       "      <td>ham</td>\n",
       "      <td>Storming msg: Wen u lift d phne, u say \\HELLO\\...</td>\n",
       "      <td>bt not his girlfrnd... G o o d n i g h t . . .@\"</td>\n",
       "      <td>NaN</td>\n",
       "      <td>NaN</td>\n",
       "    </tr>\n",
       "  </tbody>\n",
       "</table>\n",
       "</div>"
      ],
      "text/plain": [
       "        v1                                                 v2  \\\n",
       "95    spam  Your free ringtone is waiting to be collected....   \n",
       "281    ham                                \\Wen u miss someone   \n",
       "444    ham  \\HEY HEY WERETHE MONKEESPEOPLE SAY WE MONKEYAR...   \n",
       "671   spam         SMS. ac sun0819 posts HELLO:\\You seem cool   \n",
       "710    ham  Height of Confidence: All the Aeronautics prof...   \n",
       "899   spam  Your free ringtone is waiting to be collected....   \n",
       "1038   ham  Edison has rightly said, \\A fool can ask more ...   \n",
       "1127   ham  Height of \\Oh shit....!!\\\" situation: A guy th...   \n",
       "1266   ham    \\Hey sorry I didntgive ya a a bellearlier hunny   \n",
       "1384   ham  Storming msg: Wen u lift d phne, u say \\HELLO\\...   \n",
       "\n",
       "                                             Unnamed: 2  \\\n",
       "95                                          PO Box 5249   \n",
       "281    the person is definitely special for u..... B...   \n",
       "444    HOWU DOIN? FOUNDURSELF A JOBYET SAUSAGE?LOVE ...   \n",
       "671    wanted to say hi. HI!!!\\\" Stop? Send STOP to ...   \n",
       "710     this wont even start........ Datz confidence..\"   \n",
       "899                                         PO Box 5249   \n",
       "1038                                                 GN   \n",
       "1127                                           .;-):-D\"   \n",
       "1266  just been in bedbut mite go 2 thepub l8tr if u...   \n",
       "1384   bt not his girlfrnd... G o o d n i g h t . . .@\"   \n",
       "\n",
       "                 Unnamed: 3                      Unnamed: 4  \n",
       "95     MK17 92H. 450Ppw 16\"                             NaN  \n",
       "281        why to miss them   just Keep-in-touch\\\" gdeve..\"  \n",
       "444                     NaN                             NaN  \n",
       "671                     NaN                             NaN  \n",
       "710                     NaN                             NaN  \n",
       "899    MK17 92H. 450Ppw 16\"                             NaN  \n",
       "1038                     GE                         GNT:-)\"  \n",
       "1127                    NaN                             NaN  \n",
       "1266                    NaN                             NaN  \n",
       "1384                    NaN                             NaN  "
      ]
     },
     "execution_count": 5,
     "metadata": {},
     "output_type": "execute_result"
    }
   ],
   "source": [
    "unnamed = df[df['Unnamed: 2'].isnull()==False]\n",
    "unnamed.head(10)"
   ]
  },
  {
   "cell_type": "markdown",
   "id": "de28611b",
   "metadata": {},
   "source": [
    "After looking at the original file, we found that these columns are actually a continuation of the main message. They were separated into different columns by the commas within the message itself. We will combine the last four columns together and rename them for better readability."
   ]
  },
  {
   "cell_type": "code",
   "execution_count": 6,
   "id": "339f740f",
   "metadata": {},
   "outputs": [
    {
     "data": {
      "text/html": [
       "<div>\n",
       "<style scoped>\n",
       "    .dataframe tbody tr th:only-of-type {\n",
       "        vertical-align: middle;\n",
       "    }\n",
       "\n",
       "    .dataframe tbody tr th {\n",
       "        vertical-align: top;\n",
       "    }\n",
       "\n",
       "    .dataframe thead th {\n",
       "        text-align: right;\n",
       "    }\n",
       "</style>\n",
       "<table border=\"1\" class=\"dataframe\">\n",
       "  <thead>\n",
       "    <tr style=\"text-align: right;\">\n",
       "      <th></th>\n",
       "      <th>Category</th>\n",
       "      <th>Message</th>\n",
       "    </tr>\n",
       "  </thead>\n",
       "  <tbody>\n",
       "    <tr>\n",
       "      <th>0</th>\n",
       "      <td>ham</td>\n",
       "      <td>Go until jurong point, crazy.. Available only ...</td>\n",
       "    </tr>\n",
       "    <tr>\n",
       "      <th>1</th>\n",
       "      <td>ham</td>\n",
       "      <td>Ok lar... Joking wif u oni...</td>\n",
       "    </tr>\n",
       "    <tr>\n",
       "      <th>2</th>\n",
       "      <td>spam</td>\n",
       "      <td>Free entry in 2 a wkly comp to win FA Cup fina...</td>\n",
       "    </tr>\n",
       "    <tr>\n",
       "      <th>3</th>\n",
       "      <td>ham</td>\n",
       "      <td>U dun say so early hor... U c already then say...</td>\n",
       "    </tr>\n",
       "    <tr>\n",
       "      <th>4</th>\n",
       "      <td>ham</td>\n",
       "      <td>Nah I don't think he goes to usf, he lives aro...</td>\n",
       "    </tr>\n",
       "  </tbody>\n",
       "</table>\n",
       "</div>"
      ],
      "text/plain": [
       "  Category                                            Message\n",
       "0      ham  Go until jurong point, crazy.. Available only ...\n",
       "1      ham                   Ok lar... Joking wif u oni...   \n",
       "2     spam  Free entry in 2 a wkly comp to win FA Cup fina...\n",
       "3      ham  U dun say so early hor... U c already then say...\n",
       "4      ham  Nah I don't think he goes to usf, he lives aro..."
      ]
     },
     "execution_count": 6,
     "metadata": {},
     "output_type": "execute_result"
    }
   ],
   "source": [
    "df['full_message'] = df['v2'].fillna('') + ' ' + df['Unnamed: 2'].fillna('')+ ' ' + df['Unnamed: 3'].fillna('')+ ' ' + df['Unnamed: 4'].fillna('')\n",
    "\n",
    "df.rename(columns={'v1':'Category', 'full_message':'Message'}, inplace = True)\n",
    "df = df.drop(['v2', 'Unnamed: 2', 'Unnamed: 3','Unnamed: 4'], axis=1)\n",
    "df.head()"
   ]
  },
  {
   "cell_type": "code",
   "execution_count": 7,
   "id": "3bd2851d",
   "metadata": {},
   "outputs": [
    {
     "data": {
      "text/plain": [
       "(5572, 2)"
      ]
     },
     "execution_count": 7,
     "metadata": {},
     "output_type": "execute_result"
    }
   ],
   "source": [
    "df.shape "
   ]
  },
  {
   "cell_type": "code",
   "execution_count": 8,
   "id": "6413fe68",
   "metadata": {},
   "outputs": [
    {
     "data": {
      "text/html": [
       "<div>\n",
       "<style scoped>\n",
       "    .dataframe tbody tr th:only-of-type {\n",
       "        vertical-align: middle;\n",
       "    }\n",
       "\n",
       "    .dataframe tbody tr th {\n",
       "        vertical-align: top;\n",
       "    }\n",
       "\n",
       "    .dataframe thead th {\n",
       "        text-align: right;\n",
       "    }\n",
       "</style>\n",
       "<table border=\"1\" class=\"dataframe\">\n",
       "  <thead>\n",
       "    <tr style=\"text-align: right;\">\n",
       "      <th></th>\n",
       "      <th>Category</th>\n",
       "      <th>Message</th>\n",
       "    </tr>\n",
       "  </thead>\n",
       "  <tbody>\n",
       "    <tr>\n",
       "      <th>count</th>\n",
       "      <td>5572</td>\n",
       "      <td>5572</td>\n",
       "    </tr>\n",
       "    <tr>\n",
       "      <th>unique</th>\n",
       "      <td>2</td>\n",
       "      <td>5169</td>\n",
       "    </tr>\n",
       "    <tr>\n",
       "      <th>top</th>\n",
       "      <td>ham</td>\n",
       "      <td>Sorry, I'll call later</td>\n",
       "    </tr>\n",
       "    <tr>\n",
       "      <th>freq</th>\n",
       "      <td>4825</td>\n",
       "      <td>30</td>\n",
       "    </tr>\n",
       "  </tbody>\n",
       "</table>\n",
       "</div>"
      ],
      "text/plain": [
       "       Category                    Message\n",
       "count      5572                       5572\n",
       "unique        2                       5169\n",
       "top         ham  Sorry, I'll call later   \n",
       "freq       4825                         30"
      ]
     },
     "execution_count": 8,
     "metadata": {},
     "output_type": "execute_result"
    }
   ],
   "source": [
    "df.describe()"
   ]
  },
  {
   "cell_type": "markdown",
   "id": "325248d7",
   "metadata": {},
   "source": [
    "It seems that not all of the messages are unique, which means that there are some duplicates. We will explore these later."
   ]
  },
  {
   "cell_type": "code",
   "execution_count": 9,
   "id": "c2af1301",
   "metadata": {},
   "outputs": [
    {
     "data": {
      "text/plain": [
       "<seaborn.axisgrid.FacetGrid at 0x14cf8a5b0>"
      ]
     },
     "execution_count": 9,
     "metadata": {},
     "output_type": "execute_result"
    },
    {
     "data": {
      "image/png": "[encoded data removed]",
      "text/plain": [
       "<Figure size 500x500 with 1 Axes>"
      ]
     },
     "metadata": {},
     "output_type": "display_data"
    }
   ],
   "source": [
    "sns.catplot(y='Category', data=df, kind='count')"
   ]
  },
  {
   "cell_type": "code",
   "execution_count": 10,
   "id": "e8f71b7a",
   "metadata": {},
   "outputs": [
    {
     "name": "stdout",
     "output_type": "stream",
     "text": [
      "The ratio of non-spam to spam is 6.46: 1\n"
     ]
    }
   ],
   "source": [
    "countY, countX = df.Category.value_counts()\n",
    "print(\"The ratio of non-spam to spam is %.2f: 1\" % (countY/countX))"
   ]
  },
  {
   "cell_type": "markdown",
   "id": "b6998c90",
   "metadata": {},
   "source": [
    "As you can see, the data is quite imbalanced between non-spam and spam messages, which may affect the accuracy of any machine learning models we will use to predict the type of message. We will do some more data cleaning and then do exploratory data analysis."
   ]
  },
  {
   "cell_type": "markdown",
   "id": "a58b8a80",
   "metadata": {},
   "source": [
    "## Data Cleaning"
   ]
  },
  {
   "cell_type": "markdown",
   "id": "6954b35e",
   "metadata": {},
   "source": [
    "#### Changing of 'ham' and 'spam' to 0 and 1 respectively"
   ]
  },
  {
   "cell_type": "code",
   "execution_count": 11,
   "id": "6a3259d0",
   "metadata": {},
   "outputs": [
    {
     "name": "stdout",
     "output_type": "stream",
     "text": [
      "0    4825\n",
      "1     747\n",
      "Name: Category, dtype: int64\n"
     ]
    }
   ],
   "source": [
    "df.loc[df.Category == 'ham', 'Category'] = 0\n",
    "df.loc[df.Category == 'spam', 'Category'] = 1\n",
    "print(df.Category.value_counts())"
   ]
  },
  {
   "cell_type": "markdown",
   "id": "7bc92691",
   "metadata": {},
   "source": [
    "#### Removal of duplicates in SMS Messages"
   ]
  },
  {
   "cell_type": "code",
   "execution_count": 12,
   "id": "f9022752",
   "metadata": {},
   "outputs": [
    {
     "data": {
      "text/plain": [
       "False    5169\n",
       "True      403\n",
       "dtype: int64"
      ]
     },
     "execution_count": 12,
     "metadata": {},
     "output_type": "execute_result"
    }
   ],
   "source": [
    "df.duplicated(subset=['Message']).value_counts()"
   ]
  },
  {
   "cell_type": "markdown",
   "id": "f9113847",
   "metadata": {},
   "source": [
    "As seen, there are 403 duplicates in the dataset and have to be removed in order to prevent skewing the data.\n"
   ]
  },
  {
   "cell_type": "code",
   "execution_count": 13,
   "id": "f5f85982",
   "metadata": {
    "scrolled": true
   },
   "outputs": [
    {
     "name": "stdout",
     "output_type": "stream",
     "text": [
      "(5169, 2)\n",
      "0    4516\n",
      "1     653\n",
      "Name: Category, dtype: int64\n"
     ]
    }
   ],
   "source": [
    "df = df.drop_duplicates(subset=['Message'], keep = 'last')\n",
    "df.reset_index(drop=True, inplace=True)\n",
    "\n",
    "print(df.shape)\n",
    "print(df[\"Category\"].value_counts())"
   ]
  },
  {
   "cell_type": "code",
   "execution_count": 14,
   "id": "e2bad38f",
   "metadata": {},
   "outputs": [
    {
     "data": {
      "text/html": [
       "<div>\n",
       "<style scoped>\n",
       "    .dataframe tbody tr th:only-of-type {\n",
       "        vertical-align: middle;\n",
       "    }\n",
       "\n",
       "    .dataframe tbody tr th {\n",
       "        vertical-align: top;\n",
       "    }\n",
       "\n",
       "    .dataframe thead th {\n",
       "        text-align: right;\n",
       "    }\n",
       "</style>\n",
       "<table border=\"1\" class=\"dataframe\">\n",
       "  <thead>\n",
       "    <tr style=\"text-align: right;\">\n",
       "      <th></th>\n",
       "      <th>Category</th>\n",
       "      <th>Message</th>\n",
       "    </tr>\n",
       "  </thead>\n",
       "  <tbody>\n",
       "    <tr>\n",
       "      <th>count</th>\n",
       "      <td>5169</td>\n",
       "      <td>5169</td>\n",
       "    </tr>\n",
       "    <tr>\n",
       "      <th>unique</th>\n",
       "      <td>2</td>\n",
       "      <td>5169</td>\n",
       "    </tr>\n",
       "    <tr>\n",
       "      <th>top</th>\n",
       "      <td>0</td>\n",
       "      <td>Go until jurong point, crazy.. Available only ...</td>\n",
       "    </tr>\n",
       "    <tr>\n",
       "      <th>freq</th>\n",
       "      <td>4516</td>\n",
       "      <td>1</td>\n",
       "    </tr>\n",
       "  </tbody>\n",
       "</table>\n",
       "</div>"
      ],
      "text/plain": [
       "        Category                                            Message\n",
       "count       5169                                               5169\n",
       "unique         2                                               5169\n",
       "top            0  Go until jurong point, crazy.. Available only ...\n",
       "freq        4516                                                  1"
      ]
     },
     "execution_count": 14,
     "metadata": {},
     "output_type": "execute_result"
    }
   ],
   "source": [
    "df.describe()"
   ]
  },
  {
   "cell_type": "code",
   "execution_count": 15,
   "id": "08eafa86",
   "metadata": {},
   "outputs": [
    {
     "data": {
      "text/plain": [
       "<seaborn.axisgrid.FacetGrid at 0x14d28dca0>"
      ]
     },
     "execution_count": 15,
     "metadata": {},
     "output_type": "execute_result"
    },
    {
     "data": {
      "image/png": "[encoded data removed]",
      "text/plain": [
       "<Figure size 500x500 with 1 Axes>"
      ]
     },
     "metadata": {},
     "output_type": "display_data"
    }
   ],
   "source": [
    "sns.catplot(y='Category', data=df, kind='count') "
   ]
  },
  {
   "cell_type": "code",
   "execution_count": 16,
   "id": "1d37873a",
   "metadata": {},
   "outputs": [
    {
     "name": "stdout",
     "output_type": "stream",
     "text": [
      "The ratio of non-spam to spam is 6.92: 1\n"
     ]
    }
   ],
   "source": [
    "countY, countX = df.Category.value_counts()\n",
    "print(\"The ratio of non-spam to spam is %.2f: 1\" % (countY/countX))"
   ]
  },
  {
   "cell_type": "markdown",
   "id": "b25d0ff7",
   "metadata": {},
   "source": [
    "The ratio of non-spam to spam is even higher now. This means that a majority of the duplicated messages that were removed were spam. Makes sense, since the same spam message is often sent to many people at once."
   ]
  },
  {
   "cell_type": "markdown",
   "id": "13e75506",
   "metadata": {},
   "source": [
    "## Data Preparation\n",
    "\n",
    "Generating Stop Words"
   ]
  },
  {
   "cell_type": "code",
   "execution_count": 17,
   "id": "182621e0",
   "metadata": {
    "scrolled": true
   },
   "outputs": [
    {
     "name": "stdout",
     "output_type": "stream",
     "text": [
      "['perhaps', 'latter', 'made', 'cant', 'himself', 'have', 'should', 'so', 'beside', 'has', 'her', 'whither', 'them', 'themselves', 'meanwhile', 'sometimes', 'other', 'those', 'were', 'only', 'as', 'here', 'herein', 'three', 'still', 'thru', 'whose', 'beyond', 'please', 'through', 'others', 'besides', 'nobody', 'hundred', 'and', 'twenty', 'eg', 'seem', 'now', 'eleven', 'sixty', 'ever', 'bill', 'back', 'towards', 'whenever', 'namely', 'neither', 'call', 'if', 'their', 'each', 'this', 'un', 'by', 'but', 'everything', 'whole', 'becoming', 'out', 'us', 'wherever', 'these', 'ourselves', 'may', 'become', 'mine', 'even', 'would', 'serious', 'go', 'is', 'most', 'thereby', 'forty', 'though', 'thick', 'empty', 'there', 'whereupon', 'anywhere', 'in', 'yourself', 'eight', 'latterly', 'or', 'than', 'however', 'thence', 'already', 'after', 'something', 'up', 'fill', 'due', 'although', 'nine', 'one', 'own', 'during', 'a', 'fifteen', 'within', 'whereas', 'thin', 'ours', 'found', 'am', 'without', 'toward', 'over', 'hereupon', 'ten', 'anything', 'herself', 'she', 'then', 'not', 'what', 'yet', 'can', 'on', 'four', 'amoungst', 'move', 'amount', 'five', 'my', 'upon', 'someone', 'two', 'you', 'seems', 'our', 'your', 'again', 'off', 'take', 'else', 'be', 'across', 'was', 'amongst', 'therein', 'why', 'its', 'interest', 'beforehand', 'wherein', 'from', 'i', 'nothing', 'which', 'might', 'that', 'rather', 'became', 'about', 'system', 'sometime', 'together', 'inc', 'name', 'nowhere', 'they', 'been', 'therefore', 'couldnt', 'except', 'next', 'very', 'ltd', 'while', 'never', 'fire', 'onto', 'who', 'yourselves', 'until', 'per', 'must', 'put', 'afterwards', 'an', 'could', 'every', 'against', 'around', 'anyway', 'above', 'the', 'once', 'none', 'top', 'both', 'front', 'many', 'myself', 'full', 'we', 'into', 'before', 'anyhow', 'whoever', 'ie', 'six', 'get', 'he', 'few', 'itself', 'behind', 'any', 'had', 'noone', 'whatever', 'sincere', 'third', 'do', 'to', 'last', 'nevertheless', 'etc', 'see', 'hereby', 'indeed', 'under', 'him', 'more', 'thereafter', 'everywhere', 'con', 'also', 'twelve', 'all', 'almost', 'down', 'somewhere', 'find', 'another', 'becomes', 'less', 'hasnt', 'otherwise', 'for', 'being', 'such', 'when', 'me', 'since', 'always', 'hereafter', 'whom', 'anyone', 'same', 'further', 'will', 'former', 'part', 'with', 'seemed', 'enough', 'co', 'throughout', 'below', 'whence', 'mostly', 'well', 'between', 'often', 'thereupon', 'first', 'how', 'give', 'among', 'along', 're', 'elsewhere', 'are', 'formerly', 'keep', 'side', 'cannot', 'mill', 'yours', 'somehow', 'hence', 'via', 'describe', 'either', 'of', 'too', 'some', 'much', 'at', 'whereafter', 'cry', 'because', 'detail', 'alone', 'no', 'nor', 'least', 'whether', 'moreover', 'several', 'it', 'bottom', 'show', 'everyone', 'his', 'seeming', 'de', 'hers', 'where', 'done', 'fifty', 'whereby', 'thus', 'otherwise', 'they', 'does', 'been', 'for', 'being', 'such', 'therefore', 'when', \"i'd\", 'there', \"it's\", 'me', \"you're\", 'since', \"there's\", 'whom', \"wouldn't\", \"they'd\", 'in', 'same', 'yourself', 'com', 'further', 'himself', 'shall', 'have', 'very', 'did', 'with', 'or', 'than', 'however', 'while', 'should', 'ought', 'so', 'after', \"weren't\", 'has', 'up', 'below', \"what's\", 'her', 'them', 'themselves', 'who', 'yourselves', \"hadn't\", 'own', 'during', 'between', 'until', \"won't\", 'a', 'an', 'other', \"we've\", 'those', 'were', 'only', 'could', 'as', \"i'm\", 'here', \"hasn't\", 'http', \"i've\", 'against', 'ours', 'how', \"let's\", 'above', 'am', 'the', 'once', \"he's\", 'both', 'through', 'over', \"when's\", 'are', \"we'd\", 'and', 'herself', 'she', 'cannot', 'then', 'not', 'what', \"they'll\", 'yours', 'can', 'on', 'having', \"doesn't\", 'hence', \"couldn't\", \"they're\", \"where's\", 'myself', 'ever', 'we', 'into', 'r', 'before', \"who's\", 'my', 'of', 'too', 'some', 'if', 'get', \"mustn't\", 'like', 'he', 'their', 'few', 'each', 'at', 'you', 'itself', \"here's\", 'any', 'had', 'this', 'our', 'do', 'your', 'again', \"she's\", 'because', 'off', \"she'll\", \"we'll\", 'by', 'but', \"i'll\", 'k', \"that's\", 'to', 'www', \"you've\", \"haven't\", \"shouldn't\", 'else', 'no', 'theirs', 'be', \"aren't\", \"isn't\", \"they've\", 'was', \"why's\", \"he'd\", 'under', 'him', 'more', 'nor', \"don't\", 'out', \"you'll\", 'why', 'these', 'doing', \"how's\", 'ourselves', 'its', 'it', \"wasn't\", \"you'd\", 'also', 'just', 'would', 'from', \"didn't\", 'i', \"she'd\", 'which', 'his', 'all', 'that', 'hers', \"can't\", \"we're\", 'where', \"he'll\", 'down', 'is', 'most', 'about', \"shan't\", 'u']\n"
     ]
    }
   ],
   "source": [
    "stopwords = list(ENGLISH_STOP_WORDS) + list(STOPWORDS) + ['u']\n",
    "print(stopwords)"
   ]
  },
  {
   "cell_type": "markdown",
   "id": "023aa470",
   "metadata": {},
   "source": [
    "\n",
    "#### Phone Number Detection\n",
    "\n",
    "Spam messages often contain a link or phone number which lures victims into giving away their private information. Let's see if this is reflected in our dataset.\n",
    "\n",
    "Looking through the data, there are many instances when phone numbers were present in the message and the message was classified as spam."
   ]
  },
  {
   "cell_type": "code",
   "execution_count": 18,
   "id": "9959e5b4",
   "metadata": {},
   "outputs": [
    {
     "data": {
      "text/html": [
       "<div>\n",
       "<style scoped>\n",
       "    .dataframe tbody tr th:only-of-type {\n",
       "        vertical-align: middle;\n",
       "    }\n",
       "\n",
       "    .dataframe tbody tr th {\n",
       "        vertical-align: top;\n",
       "    }\n",
       "\n",
       "    .dataframe thead th {\n",
       "        text-align: right;\n",
       "    }\n",
       "</style>\n",
       "<table border=\"1\" class=\"dataframe\">\n",
       "  <thead>\n",
       "    <tr style=\"text-align: right;\">\n",
       "      <th></th>\n",
       "      <th>Category</th>\n",
       "      <th>Message</th>\n",
       "      <th>Contain_HP</th>\n",
       "    </tr>\n",
       "  </thead>\n",
       "  <tbody>\n",
       "    <tr>\n",
       "      <th>0</th>\n",
       "      <td>0</td>\n",
       "      <td>Go until jurong point, crazy.. Available only ...</td>\n",
       "      <td>False</td>\n",
       "    </tr>\n",
       "    <tr>\n",
       "      <th>1</th>\n",
       "      <td>0</td>\n",
       "      <td>Ok lar... Joking wif u oni...</td>\n",
       "      <td>False</td>\n",
       "    </tr>\n",
       "    <tr>\n",
       "      <th>2</th>\n",
       "      <td>0</td>\n",
       "      <td>U dun say so early hor... U c already then say...</td>\n",
       "      <td>False</td>\n",
       "    </tr>\n",
       "    <tr>\n",
       "      <th>3</th>\n",
       "      <td>0</td>\n",
       "      <td>Nah I don't think he goes to usf, he lives aro...</td>\n",
       "      <td>False</td>\n",
       "    </tr>\n",
       "    <tr>\n",
       "      <th>4</th>\n",
       "      <td>1</td>\n",
       "      <td>FreeMsg Hey there darling it's been 3 week's n...</td>\n",
       "      <td>False</td>\n",
       "    </tr>\n",
       "    <tr>\n",
       "      <th>5</th>\n",
       "      <td>0</td>\n",
       "      <td>Even my brother is not like to speak with me. ...</td>\n",
       "      <td>False</td>\n",
       "    </tr>\n",
       "    <tr>\n",
       "      <th>6</th>\n",
       "      <td>0</td>\n",
       "      <td>I'm gonna be home soon and i don't want to tal...</td>\n",
       "      <td>False</td>\n",
       "    </tr>\n",
       "    <tr>\n",
       "      <th>7</th>\n",
       "      <td>0</td>\n",
       "      <td>I've been searching for the right words to tha...</td>\n",
       "      <td>False</td>\n",
       "    </tr>\n",
       "    <tr>\n",
       "      <th>8</th>\n",
       "      <td>0</td>\n",
       "      <td>I HAVE A DATE ON SUNDAY WITH WILL!!</td>\n",
       "      <td>False</td>\n",
       "    </tr>\n",
       "    <tr>\n",
       "      <th>9</th>\n",
       "      <td>1</td>\n",
       "      <td>XXXMobileMovieClub: To use your credit, click ...</td>\n",
       "      <td>False</td>\n",
       "    </tr>\n",
       "  </tbody>\n",
       "</table>\n",
       "</div>"
      ],
      "text/plain": [
       "  Category                                            Message  Contain_HP\n",
       "0        0  Go until jurong point, crazy.. Available only ...       False\n",
       "1        0                   Ok lar... Joking wif u oni...          False\n",
       "2        0  U dun say so early hor... U c already then say...       False\n",
       "3        0  Nah I don't think he goes to usf, he lives aro...       False\n",
       "4        1  FreeMsg Hey there darling it's been 3 week's n...       False\n",
       "5        0  Even my brother is not like to speak with me. ...       False\n",
       "6        0  I'm gonna be home soon and i don't want to tal...       False\n",
       "7        0  I've been searching for the right words to tha...       False\n",
       "8        0             I HAVE A DATE ON SUNDAY WITH WILL!!          False\n",
       "9        1  XXXMobileMovieClub: To use your credit, click ...       False"
      ]
     },
     "execution_count": 18,
     "metadata": {},
     "output_type": "execute_result"
    }
   ],
   "source": [
    "pattern = r'\\d{6,}'\n",
    "\n",
    "df['Contain_HP'] = df['Message'].apply(lambda x: bool(re.search(pattern, x)))\n",
    "\n",
    "df.head(10)"
   ]
  },
  {
   "cell_type": "code",
   "execution_count": 19,
   "id": "e8f46a3e",
   "metadata": {},
   "outputs": [
    {
     "data": {
      "text/plain": [
       "False    4801\n",
       "True      368\n",
       "Name: Contain_HP, dtype: int64"
      ]
     },
     "execution_count": 19,
     "metadata": {},
     "output_type": "execute_result"
    }
   ],
   "source": [
    "df['Contain_HP'].value_counts()"
   ]
  },
  {
   "cell_type": "markdown",
   "id": "4947fbeb",
   "metadata": {},
   "source": [
    "# Machine Learning"
   ]
  },
  {
   "cell_type": "markdown",
   "id": "fe1f0175",
   "metadata": {},
   "source": [
    "### Removing Stopwords\n",
    "Removing Stopwords from all messages by creating a DataFrame containing all messages"
   ]
  },
  {
   "cell_type": "code",
   "execution_count": 20,
   "id": "20c3a022",
   "metadata": {},
   "outputs": [],
   "source": [
    "df_x = df[['Message', 'Contain_HP']]\n",
    "df_y = df.Category"
   ]
  },
  {
   "cell_type": "code",
   "execution_count": 21,
   "id": "a64e80be",
   "metadata": {},
   "outputs": [],
   "source": [
    "def remove_stopwords(message):\n",
    "    stop_words = set(stopwords)\n",
    "    words = message.split()\n",
    "    filtered_words = [word for word in words if word.lower() not in stop_words]\n",
    "    return ' '.join(filtered_words)"
   ]
  },
  {
   "cell_type": "code",
   "execution_count": 22,
   "id": "39b0ef39",
   "metadata": {},
   "outputs": [],
   "source": [
    "for x in df_x.itertuples():\n",
    "    df_x.at[x.Index, \"Message\"] = remove_stopwords(x.Message)"
   ]
  },
  {
   "cell_type": "markdown",
   "id": "dc0dfd44",
   "metadata": {},
   "source": [
    "### Vectorizing strings to matrix\n",
    "\n",
    "TfidVectorizer converts strings into a matrix of numbers that measure how relevant certain words are to a particular type of message, usually based on how often they appear. These values make it easier for machine learning algorithms to analyse the data and make predictions.\n",
    "\n",
    "Here, we will split the dataset into test and train data, and begin running prediction models."
   ]
  },
  {
   "cell_type": "code",
   "execution_count": 23,
   "id": "1a7add0b",
   "metadata": {},
   "outputs": [],
   "source": [
    "cv = TfidfVectorizer(min_df = 1, stop_words='english')"
   ]
  },
  {
   "cell_type": "code",
   "execution_count": 24,
   "id": "b3bca6a7",
   "metadata": {},
   "outputs": [],
   "source": [
    "x_train, x_test, y_train, y_test = train_test_split(df_x, df_y, test_size = 0.2, random_state = 42)\n",
    "test_length = len(x_test)"
   ]
  },
  {
   "cell_type": "code",
   "execution_count": 25,
   "id": "3e112c41",
   "metadata": {},
   "outputs": [],
   "source": [
    "x_traincv = cv.fit_transform(x_train.Message)\n",
    "x_testcv = cv.transform(x_test.Message)"
   ]
  },
  {
   "cell_type": "code",
   "execution_count": 26,
   "id": "7cf239fd",
   "metadata": {},
   "outputs": [],
   "source": [
    "result = pd.DataFrame()\n",
    "result['Model'] = None\n",
    "result['Accuracy'] = None\n",
    "result['F1_score'] = None"
   ]
  },
  {
   "cell_type": "markdown",
   "id": "68c0faea",
   "metadata": {},
   "source": [
    "## Training with Naive Bayes\n",
    "\n",
    "This is a classification algorithm based on weights assigned to individual words."
   ]
  },
  {
   "cell_type": "code",
   "execution_count": 27,
   "id": "fc0c7010",
   "metadata": {},
   "outputs": [
    {
     "data": {
      "text/html": [
       "<style>#sk-container-id-1 {color: black;background-color: white;}#sk-container-id-1 pre{padding: 0;}#sk-container-id-1 div.sk-toggleable {background-color: white;}#sk-container-id-1 label.sk-toggleable__label {cursor: pointer;display: block;width: 100%;margin-bottom: 0;padding: 0.3em;box-sizing: border-box;text-align: center;}#sk-container-id-1 label.sk-toggleable__label-arrow:before {content: \"▸\";float: left;margin-right: 0.25em;color: #696969;}#sk-container-id-1 label.sk-toggleable__label-arrow:hover:before {color: black;}#sk-container-id-1 div.sk-estimator:hover label.sk-toggleable__label-arrow:before {color: black;}#sk-container-id-1 div.sk-toggleable__content {max-height: 0;max-width: 0;overflow: hidden;text-align: left;background-color: #f0f8ff;}#sk-container-id-1 div.sk-toggleable__content pre {margin: 0.2em;color: black;border-radius: 0.25em;background-color: #f0f8ff;}#sk-container-id-1 input.sk-toggleable__control:checked~div.sk-toggleable__content {max-height: 200px;max-width: 100%;overflow: auto;}#sk-container-id-1 input.sk-toggleable__control:checked~label.sk-toggleable__label-arrow:before {content: \"▾\";}#sk-container-id-1 div.sk-estimator input.sk-toggleable__control:checked~label.sk-toggleable__label {background-color: #d4ebff;}#sk-container-id-1 div.sk-label input.sk-toggleable__control:checked~label.sk-toggleable__label {background-color: #d4ebff;}#sk-container-id-1 input.sk-hidden--visually {border: 0;clip: rect(1px 1px 1px 1px);clip: rect(1px, 1px, 1px, 1px);height: 1px;margin: -1px;overflow: hidden;padding: 0;position: absolute;width: 1px;}#sk-container-id-1 div.sk-estimator {font-family: monospace;background-color: #f0f8ff;border: 1px dotted black;border-radius: 0.25em;box-sizing: border-box;margin-bottom: 0.5em;}#sk-container-id-1 div.sk-estimator:hover {background-color: #d4ebff;}#sk-container-id-1 div.sk-parallel-item::after {content: \"\";width: 100%;border-bottom: 1px solid gray;flex-grow: 1;}#sk-container-id-1 div.sk-label:hover label.sk-toggleable__label {background-color: #d4ebff;}#sk-container-id-1 div.sk-serial::before {content: \"\";position: absolute;border-left: 1px solid gray;box-sizing: border-box;top: 0;bottom: 0;left: 50%;z-index: 0;}#sk-container-id-1 div.sk-serial {display: flex;flex-direction: column;align-items: center;background-color: white;padding-right: 0.2em;padding-left: 0.2em;position: relative;}#sk-container-id-1 div.sk-item {position: relative;z-index: 1;}#sk-container-id-1 div.sk-parallel {display: flex;align-items: stretch;justify-content: center;background-color: white;position: relative;}#sk-container-id-1 div.sk-item::before, #sk-container-id-1 div.sk-parallel-item::before {content: \"\";position: absolute;border-left: 1px solid gray;box-sizing: border-box;top: 0;bottom: 0;left: 50%;z-index: -1;}#sk-container-id-1 div.sk-parallel-item {display: flex;flex-direction: column;z-index: 1;position: relative;background-color: white;}#sk-container-id-1 div.sk-parallel-item:first-child::after {align-self: flex-end;width: 50%;}#sk-container-id-1 div.sk-parallel-item:last-child::after {align-self: flex-start;width: 50%;}#sk-container-id-1 div.sk-parallel-item:only-child::after {width: 0;}#sk-container-id-1 div.sk-dashed-wrapped {border: 1px dashed gray;margin: 0 0.4em 0.5em 0.4em;box-sizing: border-box;padding-bottom: 0.4em;background-color: white;}#sk-container-id-1 div.sk-label label {font-family: monospace;font-weight: bold;display: inline-block;line-height: 1.2em;}#sk-container-id-1 div.sk-label-container {text-align: center;}#sk-container-id-1 div.sk-container {/* jupyter's `normalize.less` sets `[hidden] { display: none; }` but bootstrap.min.css set `[hidden] { display: none !important; }` so we also need the `!important` here to be able to override the default hidden behavior on the sphinx rendered scikit-learn.org. See: https://github.com/scikit-learn/scikit-learn/issues/21755 */display: inline-block !important;position: relative;}#sk-container-id-1 div.sk-text-repr-fallback {display: none;}</style><div id=\"sk-container-id-1\" class=\"sk-top-container\"><div class=\"sk-text-repr-fallback\"><pre>MultinomialNB()</pre><b>In a Jupyter environment, please rerun this cell to show the HTML representation or trust the notebook. <br />On GitHub, the HTML representation is unable to render, please try loading this page with nbviewer.org.</b></div><div class=\"sk-container\" hidden><div class=\"sk-item\"><div class=\"sk-estimator sk-toggleable\"><input class=\"sk-toggleable__control sk-hidden--visually\" id=\"sk-estimator-id-1\" type=\"checkbox\" checked><label for=\"sk-estimator-id-1\" class=\"sk-toggleable__label sk-toggleable__label-arrow\">MultinomialNB</label><div class=\"sk-toggleable__content\"><pre>MultinomialNB()</pre></div></div></div></div></div>"
      ],
      "text/plain": [
       "MultinomialNB()"
      ]
     },
     "execution_count": 27,
     "metadata": {},
     "output_type": "execute_result"
    }
   ],
   "source": [
    "mnb_nb = MultinomialNB()\n",
    "a_nb = x_traincv.toarray()\n",
    "y_train = y_train.astype(int)\n",
    "y_test = y_test.astype(int)\n",
    "mnb_nb.fit(x_traincv, y_train)"
   ]
  },
  {
   "cell_type": "code",
   "execution_count": 28,
   "id": "4b4616ec",
   "metadata": {},
   "outputs": [],
   "source": [
    "y_pred_nb = mnb_nb.predict(x_testcv)\n",
    "actual_nb = np.array(y_test)"
   ]
  },
  {
   "cell_type": "code",
   "execution_count": 29,
   "id": "9f9f6c07",
   "metadata": {},
   "outputs": [
    {
     "data": {
      "image/png": "[encoded data removed]",
      "text/plain": [
       "<Figure size 640x480 with 1 Axes>"
      ]
     },
     "metadata": {},
     "output_type": "display_data"
    }
   ],
   "source": [
    "cm = confusion_matrix(actual_nb, y_pred_nb)\n",
    "sns.set(font_scale=1.4) \n",
    "sns.heatmap(cm, annot=True, fmt='g', cmap='Greens', cbar=False, annot_kws={\"size\": 16}, square=True)\n",
    "\n",
    "plt.xlabel('Predicted')\n",
    "plt.ylabel('Actual')\n",
    "\n",
    "plt.show()"
   ]
  },
  {
   "cell_type": "code",
   "execution_count": 30,
   "id": "22c0bb66",
   "metadata": {},
   "outputs": [
    {
     "name": "stdout",
     "output_type": "stream",
     "text": [
      "True Positive Rate (TPR):  0.7295081967213115\n",
      "True Negative Rate (TNR):  1.0\n",
      "False Positive Rate (FPR):  0.0\n",
      "False Negative Rate (FNR):  0.27049180327868855\n",
      "Accuracy:  0.9680851063829787\n",
      "F1 Score:  0.8436018957345972\n"
     ]
    }
   ],
   "source": [
    "true_pos = cm[1][1] / (cm[1][1] + cm[1][0])\n",
    "true_neg = cm[0][0] / (cm[0][0] + cm[0][1])\n",
    "false_pos = cm[0][1] / (cm[0][1] + cm[0][0])\n",
    "false_neg = cm[1][0] / (cm[1][0] + cm[1][1])\n",
    "acc_nb = (cm[0][0] + cm[1][1]) / (cm[1][0] + cm[0][1] + cm[0][0] + cm[1][1])\n",
    "print(\"True Positive Rate (TPR): \", true_pos)\n",
    "print(\"True Negative Rate (TNR): \", true_neg)\n",
    "print(\"False Positive Rate (FPR): \", false_pos)\n",
    "print(\"False Negative Rate (FNR): \", false_neg)\n",
    "print(\"Accuracy: \", acc_nb)\n",
    "print(\"F1 Score: \", f1_score(actual_nb, y_pred_nb))"
   ]
  },
  {
   "cell_type": "code",
   "execution_count": 31,
   "id": "c1cbe5a2",
   "metadata": {},
   "outputs": [],
   "source": [
    "result = pd.concat([result,pd.DataFrame({\"Model\": \"Naive Bayes\",\"Accuracy\":acc_nb,'F1_score':f1_score(actual_nb, y_pred_nb)}, index=[0])]).reset_index(drop=True)"
   ]
  },
  {
   "cell_type": "markdown",
   "id": "77671d9e",
   "metadata": {},
   "source": [
    "The Naive Bayes model is quite accurate as it has an accuracy score of 0.968 and a 1.0 true negative rate. However, the false negative rate is quite high which may be due to the imbalance of the dataset that was mentioned earlier. Since a majority of the messages were non-spam messages, many of the actual spam messages were predicted to be non-spam. Let's try out a few more models."
   ]
  },
  {
   "cell_type": "markdown",
   "id": "7c931c1b",
   "metadata": {},
   "source": [
    "## Training with SVC\n",
    "\n",
    "Support Vector Classification (SVC) is a prediction algorithm based on the features of the messages."
   ]
  },
  {
   "cell_type": "code",
   "execution_count": 32,
   "id": "907e996a",
   "metadata": {},
   "outputs": [
    {
     "data": {
      "text/html": [
       "<style>#sk-container-id-2 {color: black;background-color: white;}#sk-container-id-2 pre{padding: 0;}#sk-container-id-2 div.sk-toggleable {background-color: white;}#sk-container-id-2 label.sk-toggleable__label {cursor: pointer;display: block;width: 100%;margin-bottom: 0;padding: 0.3em;box-sizing: border-box;text-align: center;}#sk-container-id-2 label.sk-toggleable__label-arrow:before {content: \"▸\";float: left;margin-right: 0.25em;color: #696969;}#sk-container-id-2 label.sk-toggleable__label-arrow:hover:before {color: black;}#sk-container-id-2 div.sk-estimator:hover label.sk-toggleable__label-arrow:before {color: black;}#sk-container-id-2 div.sk-toggleable__content {max-height: 0;max-width: 0;overflow: hidden;text-align: left;background-color: #f0f8ff;}#sk-container-id-2 div.sk-toggleable__content pre {margin: 0.2em;color: black;border-radius: 0.25em;background-color: #f0f8ff;}#sk-container-id-2 input.sk-toggleable__control:checked~div.sk-toggleable__content {max-height: 200px;max-width: 100%;overflow: auto;}#sk-container-id-2 input.sk-toggleable__control:checked~label.sk-toggleable__label-arrow:before {content: \"▾\";}#sk-container-id-2 div.sk-estimator input.sk-toggleable__control:checked~label.sk-toggleable__label {background-color: #d4ebff;}#sk-container-id-2 div.sk-label input.sk-toggleable__control:checked~label.sk-toggleable__label {background-color: #d4ebff;}#sk-container-id-2 input.sk-hidden--visually {border: 0;clip: rect(1px 1px 1px 1px);clip: rect(1px, 1px, 1px, 1px);height: 1px;margin: -1px;overflow: hidden;padding: 0;position: absolute;width: 1px;}#sk-container-id-2 div.sk-estimator {font-family: monospace;background-color: #f0f8ff;border: 1px dotted black;border-radius: 0.25em;box-sizing: border-box;margin-bottom: 0.5em;}#sk-container-id-2 div.sk-estimator:hover {background-color: #d4ebff;}#sk-container-id-2 div.sk-parallel-item::after {content: \"\";width: 100%;border-bottom: 1px solid gray;flex-grow: 1;}#sk-container-id-2 div.sk-label:hover label.sk-toggleable__label {background-color: #d4ebff;}#sk-container-id-2 div.sk-serial::before {content: \"\";position: absolute;border-left: 1px solid gray;box-sizing: border-box;top: 0;bottom: 0;left: 50%;z-index: 0;}#sk-container-id-2 div.sk-serial {display: flex;flex-direction: column;align-items: center;background-color: white;padding-right: 0.2em;padding-left: 0.2em;position: relative;}#sk-container-id-2 div.sk-item {position: relative;z-index: 1;}#sk-container-id-2 div.sk-parallel {display: flex;align-items: stretch;justify-content: center;background-color: white;position: relative;}#sk-container-id-2 div.sk-item::before, #sk-container-id-2 div.sk-parallel-item::before {content: \"\";position: absolute;border-left: 1px solid gray;box-sizing: border-box;top: 0;bottom: 0;left: 50%;z-index: -1;}#sk-container-id-2 div.sk-parallel-item {display: flex;flex-direction: column;z-index: 1;position: relative;background-color: white;}#sk-container-id-2 div.sk-parallel-item:first-child::after {align-self: flex-end;width: 50%;}#sk-container-id-2 div.sk-parallel-item:last-child::after {align-self: flex-start;width: 50%;}#sk-container-id-2 div.sk-parallel-item:only-child::after {width: 0;}#sk-container-id-2 div.sk-dashed-wrapped {border: 1px dashed gray;margin: 0 0.4em 0.5em 0.4em;box-sizing: border-box;padding-bottom: 0.4em;background-color: white;}#sk-container-id-2 div.sk-label label {font-family: monospace;font-weight: bold;display: inline-block;line-height: 1.2em;}#sk-container-id-2 div.sk-label-container {text-align: center;}#sk-container-id-2 div.sk-container {/* jupyter's `normalize.less` sets `[hidden] { display: none; }` but bootstrap.min.css set `[hidden] { display: none !important; }` so we also need the `!important` here to be able to override the default hidden behavior on the sphinx rendered scikit-learn.org. See: https://github.com/scikit-learn/scikit-learn/issues/21755 */display: inline-block !important;position: relative;}#sk-container-id-2 div.sk-text-repr-fallback {display: none;}</style><div id=\"sk-container-id-2\" class=\"sk-top-container\"><div class=\"sk-text-repr-fallback\"><pre>SVC(random_state=0)</pre><b>In a Jupyter environment, please rerun this cell to show the HTML representation or trust the notebook. <br />On GitHub, the HTML representation is unable to render, please try loading this page with nbviewer.org.</b></div><div class=\"sk-container\" hidden><div class=\"sk-item\"><div class=\"sk-estimator sk-toggleable\"><input class=\"sk-toggleable__control sk-hidden--visually\" id=\"sk-estimator-id-2\" type=\"checkbox\" checked><label for=\"sk-estimator-id-2\" class=\"sk-toggleable__label sk-toggleable__label-arrow\">SVC</label><div class=\"sk-toggleable__content\"><pre>SVC(random_state=0)</pre></div></div></div></div></div>"
      ],
      "text/plain": [
       "SVC(random_state=0)"
      ]
     },
     "execution_count": 32,
     "metadata": {},
     "output_type": "execute_result"
    }
   ],
   "source": [
    "classifier_svc = SVC(random_state = 0)\n",
    "classifier_svc.fit(x_traincv, y_train) "
   ]
  },
  {
   "cell_type": "code",
   "execution_count": 33,
   "id": "30b46862",
   "metadata": {},
   "outputs": [
    {
     "name": "stdout",
     "output_type": "stream",
     "text": [
      "0.97678916827853\n"
     ]
    }
   ],
   "source": [
    "print(classifier_svc.score(x_testcv,y_test))"
   ]
  },
  {
   "cell_type": "code",
   "execution_count": 34,
   "id": "689f0a65",
   "metadata": {},
   "outputs": [],
   "source": [
    "y_pred_svc = classifier_svc.predict(x_testcv)"
   ]
  },
  {
   "cell_type": "code",
   "execution_count": 35,
   "id": "79c61416",
   "metadata": {},
   "outputs": [
    {
     "data": {
      "image/png": "[encoded data removed]",
      "text/plain": [
       "<Figure size 640x480 with 1 Axes>"
      ]
     },
     "metadata": {},
     "output_type": "display_data"
    }
   ],
   "source": [
    "cm = confusion_matrix(y_test, y_pred_svc)\n",
    "\n",
    "sns.set(font_scale=1.4) \n",
    "\n",
    "sns.heatmap(cm, annot=True, fmt='g', cmap='Blues', cbar=False, annot_kws={\"size\": 16}, square=True)\n",
    "plt.xlabel('Predicted')\n",
    "plt.ylabel('Actual')\n",
    "\n",
    "plt.show()"
   ]
  },
  {
   "cell_type": "markdown",
   "id": "eeb35473",
   "metadata": {},
   "source": [
    "#### Calculate Accuracies"
   ]
  },
  {
   "cell_type": "code",
   "execution_count": 36,
   "id": "419599a4",
   "metadata": {},
   "outputs": [
    {
     "name": "stdout",
     "output_type": "stream",
     "text": [
      "True Positive Rate (TPR):  0.8032786885245902\n",
      "True Negative Rate (TNR):  1.0\n",
      "False Positive Rate (FPR):  0.0\n",
      "False Negative Rate (FNR):  0.19672131147540983\n",
      "Accuracy:  0.97678916827853\n",
      "F1 Score:  0.8909090909090909\n"
     ]
    }
   ],
   "source": [
    "true_pos = cm[1][1] / (cm[1][1] + cm[1][0])\n",
    "true_neg = cm[0][0] / (cm[0][0] + cm[0][1])\n",
    "false_pos = cm[0][1] / (cm[0][1] + cm[0][0])\n",
    "false_neg = cm[1][0] / (cm[1][0] + cm[1][1])\n",
    "acc_svc = (cm[0][0] + cm[1][1]) / (cm[1][0] + cm[0][1] + cm[0][0] + cm[1][1])\n",
    "print(\"True Positive Rate (TPR): \", true_pos)\n",
    "print(\"True Negative Rate (TNR): \", true_neg)\n",
    "print(\"False Positive Rate (FPR): \", false_pos)\n",
    "print(\"False Negative Rate (FNR): \", false_neg)\n",
    "print(\"Accuracy: \", acc_svc)\n",
    "print(\"F1 Score: \", f1_score(y_test, y_pred_svc))"
   ]
  },
  {
   "cell_type": "code",
   "execution_count": 37,
   "id": "073cd0af",
   "metadata": {},
   "outputs": [],
   "source": [
    "result = pd.concat([result,pd.DataFrame({\"Model\": \"SVC\",\"Accuracy\":acc_svc,'F1_score':f1_score(y_test, y_pred_svc)}, index=[0])]).reset_index(drop=True)"
   ]
  },
  {
   "cell_type": "markdown",
   "id": "2ed15e01",
   "metadata": {},
   "source": [
    "The SVC model is better than the Naive Bayes model as the false negative rate is lower and the true positive rate is higher. The accuracy score and the F1 score are also better than Naive Bayes."
   ]
  },
  {
   "cell_type": "markdown",
   "id": "3841e96a",
   "metadata": {},
   "source": [
    "## Training with Random Forest Classifier\n",
    "\n",
    "The Random Forest Classifier is a classification algorithm based on multiple decision trees."
   ]
  },
  {
   "cell_type": "code",
   "execution_count": 38,
   "id": "0ebbee5b",
   "metadata": {},
   "outputs": [],
   "source": [
    "classifier_rfc = RandomForestClassifier()\n",
    "classifier_rfc.fit(x_traincv, y_train)\n",
    "y_pred_rfc = classifier_rfc.predict(x_testcv)"
   ]
  },
  {
   "cell_type": "code",
   "execution_count": 39,
   "id": "73596418",
   "metadata": {},
   "outputs": [
    {
     "data": {
      "image/png": "[encoded data removed]",
      "text/plain": [
       "<Figure size 640x480 with 1 Axes>"
      ]
     },
     "metadata": {},
     "output_type": "display_data"
    }
   ],
   "source": [
    "cm = confusion_matrix(y_test, y_pred_rfc)\n",
    "sns.set(font_scale=1.4) \n",
    "sns.heatmap(cm, annot=True, fmt='g', cmap='Purples', cbar=False, annot_kws={\"size\": 16}, square=True)\n",
    "\n",
    "plt.xlabel('Predicted')\n",
    "plt.ylabel('Actual')\n",
    "\n",
    "plt.show()"
   ]
  },
  {
   "cell_type": "markdown",
   "id": "247147af",
   "metadata": {},
   "source": [
    "#### Calculate Accuracies"
   ]
  },
  {
   "cell_type": "code",
   "execution_count": 40,
   "id": "249475e5",
   "metadata": {},
   "outputs": [
    {
     "name": "stdout",
     "output_type": "stream",
     "text": [
      "True Positive Rate (TPR):  0.7868852459016393\n",
      "True Negative Rate (TNR):  0.9989035087719298\n",
      "False Positive Rate (FPR):  0.0010964912280701754\n",
      "False Negative Rate (FNR):  0.21311475409836064\n",
      "Accuracy:  0.9738878143133463\n",
      "F1 Score:  0.8767123287671234\n"
     ]
    }
   ],
   "source": [
    "true_pos = cm[1][1] / (cm[1][1] + cm[1][0])\n",
    "true_neg = cm[0][0] / (cm[0][0] + cm[0][1])\n",
    "false_pos = cm[0][1] / (cm[0][1] + cm[0][0])\n",
    "false_neg = cm[1][0] / (cm[1][0] + cm[1][1])\n",
    "acc_rfc = (cm[0][0] + cm[1][1]) / (cm[1][0] + cm[0][1] + cm[0][0] + cm[1][1])\n",
    "print(\"True Positive Rate (TPR): \", true_pos)\n",
    "print(\"True Negative Rate (TNR): \", true_neg)\n",
    "print(\"False Positive Rate (FPR): \", false_pos)\n",
    "print(\"False Negative Rate (FNR): \", false_neg)\n",
    "print(\"Accuracy: \", acc_rfc)\n",
    "print(\"F1 Score: \", f1_score(y_test, y_pred_rfc))"
   ]
  },
  {
   "cell_type": "code",
   "execution_count": 41,
   "id": "526540d8",
   "metadata": {},
   "outputs": [],
   "source": [
    "result = pd.concat([result,pd.DataFrame({\"Model\": \"Random Forest Classifier\",\"Accuracy\":acc_rfc,'F1_score':f1_score(y_test, y_pred_rfc)}, index=[0])]).reset_index(drop=True)"
   ]
  },
  {
   "cell_type": "markdown",
   "id": "4fec299f",
   "metadata": {},
   "source": [
    "Unlike the previous 2 models, the Random Forest Classifier has 1 false positive. Its false negative rate is lower than Naive Bayes but higher than SVC. This means that SVC is still the model with the highest accuracy."
   ]
  },
  {
   "cell_type": "markdown",
   "id": "6595e3ba",
   "metadata": {},
   "source": [
    "## Training with Logistic Regression\n",
    "\n",
    "Logistic Regression makes predictions based on both 'Messages' and 'Contains_HP'."
   ]
  },
  {
   "cell_type": "code",
   "execution_count": 42,
   "id": "20589de4",
   "metadata": {},
   "outputs": [],
   "source": [
    "X_train_combined = pd.concat([pd.DataFrame(x_traincv.toarray()), x_train['Contain_HP'].reset_index(drop=True)], axis=1)\n",
    "X_test_combined = pd.concat([pd.DataFrame(x_testcv.toarray()), x_test['Contain_HP'].reset_index(drop=True)], axis=1)\n",
    "\n",
    "lr = LogisticRegression()\n",
    "X_train_combined.columns = X_train_combined.columns.astype(str)\n",
    "X_test_combined.columns = X_test_combined.columns.astype(str)\n",
    "\n",
    "lr.fit(X_train_combined, y_train)\n",
    "\n",
    "y_pred_lr = lr.predict(X_test_combined)\n"
   ]
  },
  {
   "cell_type": "code",
   "execution_count": 43,
   "id": "ffa728af",
   "metadata": {},
   "outputs": [
    {
     "data": {
      "image/png": "[encoded data removed]",
      "text/plain": [
       "<Figure size 640x480 with 1 Axes>"
      ]
     },
     "metadata": {},
     "output_type": "display_data"
    }
   ],
   "source": [
    "cm = confusion_matrix(y_test, y_pred_lr)\n",
    "sns.set(font_scale=1.4) \n",
    "sns.heatmap(cm, annot=True, fmt='g', cmap='Reds', cbar=False, annot_kws={\"size\": 16}, square=True)\n",
    "\n",
    "plt.xlabel('Predicted')\n",
    "plt.ylabel('Actual')\n",
    "\n",
    "plt.show()"
   ]
  },
  {
   "cell_type": "markdown",
   "id": "9931e1af",
   "metadata": {},
   "source": [
    "#### Calculate Accuracies"
   ]
  },
  {
   "cell_type": "code",
   "execution_count": 44,
   "id": "5afc4fd6",
   "metadata": {},
   "outputs": [
    {
     "name": "stdout",
     "output_type": "stream",
     "text": [
      "True Positive Rate (TPR):  0.7377049180327869\n",
      "True Negative Rate (TNR):  0.9978070175438597\n",
      "False Positive Rate (FPR):  0.0021929824561403508\n",
      "False Negative Rate (FNR):  0.26229508196721313\n",
      "Accuracy:  0.9671179883945842\n",
      "F1 Score:  0.8411214953271028\n"
     ]
    }
   ],
   "source": [
    "true_pos = cm[1][1] / (cm[1][1] + cm[1][0])\n",
    "true_neg = cm[0][0] / (cm[0][0] + cm[0][1])\n",
    "false_pos = cm[0][1] / (cm[0][1] + cm[0][0])\n",
    "false_neg = cm[1][0] / (cm[1][0] + cm[1][1])\n",
    "acc_lr = (cm[0][0] + cm[1][1]) / (cm[1][0] + cm[0][1] + cm[0][0] + cm[1][1])\n",
    "print(\"True Positive Rate (TPR): \", true_pos)\n",
    "print(\"True Negative Rate (TNR): \", true_neg)\n",
    "print(\"False Positive Rate (FPR): \", false_pos)\n",
    "print(\"False Negative Rate (FNR): \", false_neg)\n",
    "print(\"Accuracy: \", acc_lr)\n",
    "print(\"F1 Score: \", f1_score(y_test, y_pred_lr))"
   ]
  },
  {
   "cell_type": "code",
   "execution_count": 45,
   "id": "8ab654a9",
   "metadata": {},
   "outputs": [],
   "source": [
    "result = pd.concat([result,pd.DataFrame({\"Model\": \"Logistic Regression\",\"Accuracy\":acc_lr,'F1_score':f1_score(y_test, y_pred_lr)}, index=[0])]).reset_index(drop=True)"
   ]
  },
  {
   "cell_type": "markdown",
   "id": "d4ec5a70",
   "metadata": {},
   "source": [
    "Logistic regression turns out to be the worst of all of the 4 models we have tried. It has the highest false positive rate and false negative rate."
   ]
  },
  {
   "cell_type": "markdown",
   "id": "9a7d4588",
   "metadata": {},
   "source": [
    "## Model Ensemble\n",
    "\n",
    "We will try to combine all the 4 models we have used - Naive Bayes, SVC, Random Forest Classifier, and Logistic Regression - into one model which should be more accurate than the individual models. The idea here is similar to a voting system - if a majority of the models predict a message to be spam, then the final prediction will be that it is a spam message. This would eliminate many of the false negatives that were present in the previous models.\n",
    "\n",
    "After playing with the parameters, we found that having just 1 model to determine whether a message is spam provided the highest accuracy score."
   ]
  },
  {
   "cell_type": "code",
   "execution_count": 46,
   "id": "ff7cb0c0",
   "metadata": {},
   "outputs": [],
   "source": [
    "ensemble = []\n",
    "x_testlist = x_test.to_numpy()\n",
    "for i in range(len(y_pred_lr)):\n",
    "    if y_pred_lr[i] + y_pred_nb[i] + y_pred_rfc[i] + y_pred_svc[i] > 0:\n",
    "        ensemble.append([1])\n",
    "    else:\n",
    "        ensemble.append([0])\n",
    "ensemble_arr = np.array(ensemble)"
   ]
  },
  {
   "cell_type": "code",
   "execution_count": 47,
   "id": "771db1a3",
   "metadata": {},
   "outputs": [
    {
     "data": {
      "image/png": "[encoded data removed]",
      "text/plain": [
       "<Figure size 640x480 with 1 Axes>"
      ]
     },
     "metadata": {},
     "output_type": "display_data"
    }
   ],
   "source": [
    "cm = confusion_matrix(y_test, ensemble_arr)\n",
    "sns.set(font_scale=1.4) \n",
    "sns.heatmap(cm, annot=True, fmt='g', cmap='Reds', cbar=False, annot_kws={\"size\": 16}, square=True)\n",
    "\n",
    "plt.xlabel('Predicted')\n",
    "plt.ylabel('Actual')\n",
    "\n",
    "plt.show()"
   ]
  },
  {
   "cell_type": "markdown",
   "id": "d7189fb9",
   "metadata": {},
   "source": [
    "#### Calculate Accuracies"
   ]
  },
  {
   "cell_type": "code",
   "execution_count": 48,
   "id": "1f79ce03",
   "metadata": {
    "scrolled": true
   },
   "outputs": [
    {
     "name": "stdout",
     "output_type": "stream",
     "text": [
      "True Positive Rate (TPR):  0.8770491803278688\n",
      "True Negative Rate (TNR):  0.9967105263157895\n",
      "False Positive Rate (FPR):  0.003289473684210526\n",
      "False Negative Rate (FNR):  0.12295081967213115\n",
      "Accuracy:  0.9825918762088974\n",
      "F1 Score:  0.9224137931034483\n"
     ]
    }
   ],
   "source": [
    "true_pos = cm[1][1] / (cm[1][1] + cm[1][0])\n",
    "true_neg = cm[0][0] / (cm[0][0] + cm[0][1])\n",
    "false_pos = cm[0][1] / (cm[0][1] + cm[0][0])\n",
    "false_neg = cm[1][0] / (cm[1][0] + cm[1][1])\n",
    "acc_me = (cm[0][0] + cm[1][1]) / (cm[1][0] + cm[0][1] + cm[0][0] + cm[1][1])\n",
    "print(\"True Positive Rate (TPR): \", true_pos)\n",
    "print(\"True Negative Rate (TNR): \", true_neg)\n",
    "print(\"False Positive Rate (FPR): \", false_pos)\n",
    "print(\"False Negative Rate (FNR): \", false_neg)\n",
    "print(\"Accuracy: \", acc_me)\n",
    "print(\"F1 Score: \", f1_score(y_test, ensemble_arr))"
   ]
  },
  {
   "cell_type": "code",
   "execution_count": 49,
   "id": "eedb3358",
   "metadata": {},
   "outputs": [],
   "source": [
    "result = pd.concat([result,pd.DataFrame({\"Model\":\"Model Ensemble\",\"Accuracy\":acc_me,'F1_score':f1_score(y_test, ensemble_arr)}, index=[0])]).reset_index(drop=True)"
   ]
  },
  {
   "cell_type": "markdown",
   "id": "111e8c50",
   "metadata": {},
   "source": [
    "As expected, the Model Ensemble is even more accurate than all the 4 models. Its false negative rate is much lower than SVC, and both the accuracy score and F1 score are the highest."
   ]
  }
 ],
 "metadata": {
  "kernelspec": {
   "display_name": "Python 3 (ipykernel)",
   "language": "python",
   "name": "python3"
  },
  "language_info": {
   "codemirror_mode": {
    "name": "ipython",
    "version": 3
   },
   "file_extension": ".py",
   "mimetype": "text/x-python",
   "name": "python",
   "nbconvert_exporter": "python",
   "pygments_lexer": "ipython3",
   "version": "3.8.10"
  }
 },
 "nbformat": 4,
 "nbformat_minor": 5
}
