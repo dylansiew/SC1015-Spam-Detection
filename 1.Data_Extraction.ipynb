{
 "cells": [
  {
   "cell_type": "markdown",
   "id": "450d8924",
   "metadata": {},
   "source": [
    "## Import Relevant packages"
   ]
  },
  {
   "cell_type": "code",
   "execution_count": 1,
   "id": "1b50c009",
   "metadata": {},
   "outputs": [],
   "source": [
    "import pandas as pd\n",
    "import numpy as np\n",
    "\n",
    "# For Data Visualisation\n",
    "import seaborn as sns\n",
    "import matplotlib.pyplot as plt\n",
    "from sklearn.metrics import confusion_matrix, accuracy_score\n",
    "from collections import Counter\n",
    "\n",
    "# For Data Preparation\n",
    "from wordcloud import WordCloud, STOPWORDS\n",
    "from sklearn.feature_extraction.text import ENGLISH_STOP_WORDS\n",
    "from sklearn.tree import plot_tree\n",
    "import re\n",
    "\n",
    "# For Machine Learning\n",
    "from sklearn.model_selection import train_test_split\n",
    "from sklearn.feature_extraction.text import TfidfVectorizer\n",
    "from sklearn.naive_bayes import MultinomialNB\n",
    "from sklearn.svm import SVC\n",
    "from sklearn.ensemble import RandomForestClassifier\n",
    "from __future__ import division\n",
    "from sklearn.linear_model import LogisticRegression\n",
    "from sklearn.model_selection import cross_val_score, KFold\n",
    "\n",
    "# For Evaluation of Results\n",
    "from sklearn.metrics import f1_score\n",
    "from sklearn import metrics\n",
    "\n",
    "# For Product\n",
    "from IPython.display import HTML\n",
    "from termcolor import colored\n",
    "from pyfiglet import Figlet\n",
    "\n",
    "pd.options.mode.chained_assignment = None"
   ]
  },
  {
   "cell_type": "markdown",
   "id": "e4a56541",
   "metadata": {},
   "source": [
    "## Importing of Dataset"
   ]
  },
  {
   "cell_type": "markdown",
   "id": "80a10219",
   "metadata": {},
   "source": [
    "Our dataset has 5 columns:\n",
    "\n",
    "'v1': States whether the message is 'ham' (non-spam) or 'spam'\n",
    "\n",
    "'v2': The content of the message\n",
    "\n",
    "'Unnamed: 2': Contains some text, most of the cells are empty\n",
    "\n",
    "'Unnamed: 3': Contains some text, most of the cells are empty\n",
    "\n",
    "'Unnamed: 4': Contains some text, most of the cells are empty\n",
    "\n",
    "\n",
    "Let's explore the dataset and do some preliminary cleaning."
   ]
  },
  {
   "cell_type": "code",
   "execution_count": 2,
   "id": "350c6735",
   "metadata": {},
   "outputs": [
    {
     "data": {
      "text/plain": [
       "(5572, 5)"
      ]
     },
     "execution_count": 2,
     "metadata": {},
     "output_type": "execute_result"
    }
   ],
   "source": [
    "df = pd.read_csv('spam.csv', encoding='iso-8859-1')\n",
    "df.shape"
   ]
  },
  {
   "cell_type": "code",
   "execution_count": 3,
   "id": "77f2325c",
   "metadata": {},
   "outputs": [
    {
     "data": {
      "text/html": [
       "<div>\n",
       "<style scoped>\n",
       "    .dataframe tbody tr th:only-of-type {\n",
       "        vertical-align: middle;\n",
       "    }\n",
       "\n",
       "    .dataframe tbody tr th {\n",
       "        vertical-align: top;\n",
       "    }\n",
       "\n",
       "    .dataframe thead th {\n",
       "        text-align: right;\n",
       "    }\n",
       "</style>\n",
       "<table border=\"1\" class=\"dataframe\">\n",
       "  <thead>\n",
       "    <tr style=\"text-align: right;\">\n",
       "      <th></th>\n",
       "      <th>v1</th>\n",
       "      <th>v2</th>\n",
       "      <th>Unnamed: 2</th>\n",
       "      <th>Unnamed: 3</th>\n",
       "      <th>Unnamed: 4</th>\n",
       "    </tr>\n",
       "  </thead>\n",
       "  <tbody>\n",
       "    <tr>\n",
       "      <th>0</th>\n",
       "      <td>ham</td>\n",
       "      <td>Go until jurong point, crazy.. Available only ...</td>\n",
       "      <td>NaN</td>\n",
       "      <td>NaN</td>\n",
       "      <td>NaN</td>\n",
       "    </tr>\n",
       "    <tr>\n",
       "      <th>1</th>\n",
       "      <td>ham</td>\n",
       "      <td>Ok lar... Joking wif u oni...</td>\n",
       "      <td>NaN</td>\n",
       "      <td>NaN</td>\n",
       "      <td>NaN</td>\n",
       "    </tr>\n",
       "    <tr>\n",
       "      <th>2</th>\n",
       "      <td>spam</td>\n",
       "      <td>Free entry in 2 a wkly comp to win FA Cup fina...</td>\n",
       "      <td>NaN</td>\n",
       "      <td>NaN</td>\n",
       "      <td>NaN</td>\n",
       "    </tr>\n",
       "    <tr>\n",
       "      <th>3</th>\n",
       "      <td>ham</td>\n",
       "      <td>U dun say so early hor... U c already then say...</td>\n",
       "      <td>NaN</td>\n",
       "      <td>NaN</td>\n",
       "      <td>NaN</td>\n",
       "    </tr>\n",
       "    <tr>\n",
       "      <th>4</th>\n",
       "      <td>ham</td>\n",
       "      <td>Nah I don't think he goes to usf, he lives aro...</td>\n",
       "      <td>NaN</td>\n",
       "      <td>NaN</td>\n",
       "      <td>NaN</td>\n",
       "    </tr>\n",
       "  </tbody>\n",
       "</table>\n",
       "</div>"
      ],
      "text/plain": [
       "     v1                                                 v2 Unnamed: 2  \\\n",
       "0   ham  Go until jurong point, crazy.. Available only ...        NaN   \n",
       "1   ham                      Ok lar... Joking wif u oni...        NaN   \n",
       "2  spam  Free entry in 2 a wkly comp to win FA Cup fina...        NaN   \n",
       "3   ham  U dun say so early hor... U c already then say...        NaN   \n",
       "4   ham  Nah I don't think he goes to usf, he lives aro...        NaN   \n",
       "\n",
       "  Unnamed: 3 Unnamed: 4  \n",
       "0        NaN        NaN  \n",
       "1        NaN        NaN  \n",
       "2        NaN        NaN  \n",
       "3        NaN        NaN  \n",
       "4        NaN        NaN  "
      ]
     },
     "execution_count": 3,
     "metadata": {},
     "output_type": "execute_result"
    }
   ],
   "source": [
    "df.head()"
   ]
  },
  {
   "cell_type": "code",
   "execution_count": 4,
   "id": "de900cde",
   "metadata": {},
   "outputs": [
    {
     "name": "stdout",
     "output_type": "stream",
     "text": [
      "<class 'pandas.core.frame.DataFrame'>\n",
      "RangeIndex: 5572 entries, 0 to 5571\n",
      "Data columns (total 5 columns):\n",
      " #   Column      Non-Null Count  Dtype \n",
      "---  ------      --------------  ----- \n",
      " 0   v1          5572 non-null   object\n",
      " 1   v2          5572 non-null   object\n",
      " 2   Unnamed: 2  50 non-null     object\n",
      " 3   Unnamed: 3  12 non-null     object\n",
      " 4   Unnamed: 4  6 non-null      object\n",
      "dtypes: object(5)\n",
      "memory usage: 217.8+ KB\n"
     ]
    }
   ],
   "source": [
    "df.info()"
   ]
  },
  {
   "cell_type": "markdown",
   "id": "15f05fbb",
   "metadata": {},
   "source": [
    "At first glance, it's unclear what the 'Unnamed' columns are for. Let's take a look."
   ]
  },
  {
   "cell_type": "code",
   "execution_count": 5,
   "id": "5f3fe246",
   "metadata": {},
   "outputs": [
    {
     "data": {
      "text/html": [
       "<div>\n",
       "<style scoped>\n",
       "    .dataframe tbody tr th:only-of-type {\n",
       "        vertical-align: middle;\n",
       "    }\n",
       "\n",
       "    .dataframe tbody tr th {\n",
       "        vertical-align: top;\n",
       "    }\n",
       "\n",
       "    .dataframe thead th {\n",
       "        text-align: right;\n",
       "    }\n",
       "</style>\n",
       "<table border=\"1\" class=\"dataframe\">\n",
       "  <thead>\n",
       "    <tr style=\"text-align: right;\">\n",
       "      <th></th>\n",
       "      <th>v1</th>\n",
       "      <th>v2</th>\n",
       "      <th>Unnamed: 2</th>\n",
       "      <th>Unnamed: 3</th>\n",
       "      <th>Unnamed: 4</th>\n",
       "    </tr>\n",
       "  </thead>\n",
       "  <tbody>\n",
       "    <tr>\n",
       "      <th>95</th>\n",
       "      <td>spam</td>\n",
       "      <td>Your free ringtone is waiting to be collected....</td>\n",
       "      <td>PO Box 5249</td>\n",
       "      <td>MK17 92H. 450Ppw 16\"</td>\n",
       "      <td>NaN</td>\n",
       "    </tr>\n",
       "    <tr>\n",
       "      <th>281</th>\n",
       "      <td>ham</td>\n",
       "      <td>\\Wen u miss someone</td>\n",
       "      <td>the person is definitely special for u..... B...</td>\n",
       "      <td>why to miss them</td>\n",
       "      <td>just Keep-in-touch\\\" gdeve..\"</td>\n",
       "    </tr>\n",
       "    <tr>\n",
       "      <th>444</th>\n",
       "      <td>ham</td>\n",
       "      <td>\\HEY HEY WERETHE MONKEESPEOPLE SAY WE MONKEYAR...</td>\n",
       "      <td>HOWU DOIN? FOUNDURSELF A JOBYET SAUSAGE?LOVE ...</td>\n",
       "      <td>NaN</td>\n",
       "      <td>NaN</td>\n",
       "    </tr>\n",
       "    <tr>\n",
       "      <th>671</th>\n",
       "      <td>spam</td>\n",
       "      <td>SMS. ac sun0819 posts HELLO:\\You seem cool</td>\n",
       "      <td>wanted to say hi. HI!!!\\\" Stop? Send STOP to ...</td>\n",
       "      <td>NaN</td>\n",
       "      <td>NaN</td>\n",
       "    </tr>\n",
       "    <tr>\n",
       "      <th>710</th>\n",
       "      <td>ham</td>\n",
       "      <td>Height of Confidence: All the Aeronautics prof...</td>\n",
       "      <td>this wont even start........ Datz confidence..\"</td>\n",
       "      <td>NaN</td>\n",
       "      <td>NaN</td>\n",
       "    </tr>\n",
       "    <tr>\n",
       "      <th>899</th>\n",
       "      <td>spam</td>\n",
       "      <td>Your free ringtone is waiting to be collected....</td>\n",
       "      <td>PO Box 5249</td>\n",
       "      <td>MK17 92H. 450Ppw 16\"</td>\n",
       "      <td>NaN</td>\n",
       "    </tr>\n",
       "    <tr>\n",
       "      <th>1038</th>\n",
       "      <td>ham</td>\n",
       "      <td>Edison has rightly said, \\A fool can ask more ...</td>\n",
       "      <td>GN</td>\n",
       "      <td>GE</td>\n",
       "      <td>GNT:-)\"</td>\n",
       "    </tr>\n",
       "    <tr>\n",
       "      <th>1127</th>\n",
       "      <td>ham</td>\n",
       "      <td>Height of \\Oh shit....!!\\\" situation: A guy th...</td>\n",
       "      <td>.;-):-D\"</td>\n",
       "      <td>NaN</td>\n",
       "      <td>NaN</td>\n",
       "    </tr>\n",
       "    <tr>\n",
       "      <th>1266</th>\n",
       "      <td>ham</td>\n",
       "      <td>\\Hey sorry I didntgive ya a a bellearlier hunny</td>\n",
       "      <td>just been in bedbut mite go 2 thepub l8tr if u...</td>\n",
       "      <td>NaN</td>\n",
       "      <td>NaN</td>\n",
       "    </tr>\n",
       "    <tr>\n",
       "      <th>1384</th>\n",
       "      <td>ham</td>\n",
       "      <td>Storming msg: Wen u lift d phne, u say \\HELLO\\...</td>\n",
       "      <td>bt not his girlfrnd... G o o d n i g h t . . .@\"</td>\n",
       "      <td>NaN</td>\n",
       "      <td>NaN</td>\n",
       "    </tr>\n",
       "  </tbody>\n",
       "</table>\n",
       "</div>"
      ],
      "text/plain": [
       "        v1                                                 v2  \\\n",
       "95    spam  Your free ringtone is waiting to be collected....   \n",
       "281    ham                                \\Wen u miss someone   \n",
       "444    ham  \\HEY HEY WERETHE MONKEESPEOPLE SAY WE MONKEYAR...   \n",
       "671   spam         SMS. ac sun0819 posts HELLO:\\You seem cool   \n",
       "710    ham  Height of Confidence: All the Aeronautics prof...   \n",
       "899   spam  Your free ringtone is waiting to be collected....   \n",
       "1038   ham  Edison has rightly said, \\A fool can ask more ...   \n",
       "1127   ham  Height of \\Oh shit....!!\\\" situation: A guy th...   \n",
       "1266   ham    \\Hey sorry I didntgive ya a a bellearlier hunny   \n",
       "1384   ham  Storming msg: Wen u lift d phne, u say \\HELLO\\...   \n",
       "\n",
       "                                             Unnamed: 2  \\\n",
       "95                                          PO Box 5249   \n",
       "281    the person is definitely special for u..... B...   \n",
       "444    HOWU DOIN? FOUNDURSELF A JOBYET SAUSAGE?LOVE ...   \n",
       "671    wanted to say hi. HI!!!\\\" Stop? Send STOP to ...   \n",
       "710     this wont even start........ Datz confidence..\"   \n",
       "899                                         PO Box 5249   \n",
       "1038                                                 GN   \n",
       "1127                                           .;-):-D\"   \n",
       "1266  just been in bedbut mite go 2 thepub l8tr if u...   \n",
       "1384   bt not his girlfrnd... G o o d n i g h t . . .@\"   \n",
       "\n",
       "                 Unnamed: 3                      Unnamed: 4  \n",
       "95     MK17 92H. 450Ppw 16\"                             NaN  \n",
       "281        why to miss them   just Keep-in-touch\\\" gdeve..\"  \n",
       "444                     NaN                             NaN  \n",
       "671                     NaN                             NaN  \n",
       "710                     NaN                             NaN  \n",
       "899    MK17 92H. 450Ppw 16\"                             NaN  \n",
       "1038                     GE                         GNT:-)\"  \n",
       "1127                    NaN                             NaN  \n",
       "1266                    NaN                             NaN  \n",
       "1384                    NaN                             NaN  "
      ]
     },
     "execution_count": 5,
     "metadata": {},
     "output_type": "execute_result"
    }
   ],
   "source": [
    "unnamed = df[df['Unnamed: 2'].isnull()==False]\n",
    "unnamed.head(10)"
   ]
  },
  {
   "cell_type": "markdown",
   "id": "de28611b",
   "metadata": {},
   "source": [
    "After looking at the original file, we found that these columns are actually a continuation of the main message. They were separated into different columns by the commas within the message itself. We will combine the last four columns together and rename them for better readability."
   ]
  },
  {
   "cell_type": "code",
   "execution_count": 6,
   "id": "339f740f",
   "metadata": {},
   "outputs": [
    {
     "data": {
      "text/html": [
       "<div>\n",
       "<style scoped>\n",
       "    .dataframe tbody tr th:only-of-type {\n",
       "        vertical-align: middle;\n",
       "    }\n",
       "\n",
       "    .dataframe tbody tr th {\n",
       "        vertical-align: top;\n",
       "    }\n",
       "\n",
       "    .dataframe thead th {\n",
       "        text-align: right;\n",
       "    }\n",
       "</style>\n",
       "<table border=\"1\" class=\"dataframe\">\n",
       "  <thead>\n",
       "    <tr style=\"text-align: right;\">\n",
       "      <th></th>\n",
       "      <th>Category</th>\n",
       "      <th>Message</th>\n",
       "    </tr>\n",
       "  </thead>\n",
       "  <tbody>\n",
       "    <tr>\n",
       "      <th>0</th>\n",
       "      <td>ham</td>\n",
       "      <td>Go until jurong point, crazy.. Available only ...</td>\n",
       "    </tr>\n",
       "    <tr>\n",
       "      <th>1</th>\n",
       "      <td>ham</td>\n",
       "      <td>Ok lar... Joking wif u oni...</td>\n",
       "    </tr>\n",
       "    <tr>\n",
       "      <th>2</th>\n",
       "      <td>spam</td>\n",
       "      <td>Free entry in 2 a wkly comp to win FA Cup fina...</td>\n",
       "    </tr>\n",
       "    <tr>\n",
       "      <th>3</th>\n",
       "      <td>ham</td>\n",
       "      <td>U dun say so early hor... U c already then say...</td>\n",
       "    </tr>\n",
       "    <tr>\n",
       "      <th>4</th>\n",
       "      <td>ham</td>\n",
       "      <td>Nah I don't think he goes to usf, he lives aro...</td>\n",
       "    </tr>\n",
       "  </tbody>\n",
       "</table>\n",
       "</div>"
      ],
      "text/plain": [
       "  Category                                            Message\n",
       "0      ham  Go until jurong point, crazy.. Available only ...\n",
       "1      ham                   Ok lar... Joking wif u oni...   \n",
       "2     spam  Free entry in 2 a wkly comp to win FA Cup fina...\n",
       "3      ham  U dun say so early hor... U c already then say...\n",
       "4      ham  Nah I don't think he goes to usf, he lives aro..."
      ]
     },
     "execution_count": 6,
     "metadata": {},
     "output_type": "execute_result"
    }
   ],
   "source": [
    "df['full_message'] = df['v2'].fillna('') + ' ' + df['Unnamed: 2'].fillna('')+ ' ' + df['Unnamed: 3'].fillna('')+ ' ' + df['Unnamed: 4'].fillna('')\n",
    "\n",
    "df.rename(columns={'v1':'Category', 'full_message':'Message'}, inplace = True)\n",
    "df = df.drop(['v2', 'Unnamed: 2', 'Unnamed: 3','Unnamed: 4'], axis=1)\n",
    "df.head()"
   ]
  },
  {
   "cell_type": "code",
   "execution_count": 7,
   "id": "3bd2851d",
   "metadata": {},
   "outputs": [
    {
     "data": {
      "text/plain": [
       "(5572, 2)"
      ]
     },
     "execution_count": 7,
     "metadata": {},
     "output_type": "execute_result"
    }
   ],
   "source": [
    "df.shape #new dimensions"
   ]
  },
  {
   "cell_type": "code",
   "execution_count": 8,
   "id": "6413fe68",
   "metadata": {},
   "outputs": [
    {
     "data": {
      "text/html": [
       "<div>\n",
       "<style scoped>\n",
       "    .dataframe tbody tr th:only-of-type {\n",
       "        vertical-align: middle;\n",
       "    }\n",
       "\n",
       "    .dataframe tbody tr th {\n",
       "        vertical-align: top;\n",
       "    }\n",
       "\n",
       "    .dataframe thead th {\n",
       "        text-align: right;\n",
       "    }\n",
       "</style>\n",
       "<table border=\"1\" class=\"dataframe\">\n",
       "  <thead>\n",
       "    <tr style=\"text-align: right;\">\n",
       "      <th></th>\n",
       "      <th>Category</th>\n",
       "      <th>Message</th>\n",
       "    </tr>\n",
       "  </thead>\n",
       "  <tbody>\n",
       "    <tr>\n",
       "      <th>count</th>\n",
       "      <td>5572</td>\n",
       "      <td>5572</td>\n",
       "    </tr>\n",
       "    <tr>\n",
       "      <th>unique</th>\n",
       "      <td>2</td>\n",
       "      <td>5169</td>\n",
       "    </tr>\n",
       "    <tr>\n",
       "      <th>top</th>\n",
       "      <td>ham</td>\n",
       "      <td>Sorry, I'll call later</td>\n",
       "    </tr>\n",
       "    <tr>\n",
       "      <th>freq</th>\n",
       "      <td>4825</td>\n",
       "      <td>30</td>\n",
       "    </tr>\n",
       "  </tbody>\n",
       "</table>\n",
       "</div>"
      ],
      "text/plain": [
       "       Category                    Message\n",
       "count      5572                       5572\n",
       "unique        2                       5169\n",
       "top         ham  Sorry, I'll call later   \n",
       "freq       4825                         30"
      ]
     },
     "execution_count": 8,
     "metadata": {},
     "output_type": "execute_result"
    }
   ],
   "source": [
    "df.describe()"
   ]
  },
  {
   "cell_type": "markdown",
   "id": "325248d7",
   "metadata": {},
   "source": [
    "It seems that not all of the messages are unique, which means that there are some duplicates. We will explore these later."
   ]
  },
  {
   "cell_type": "code",
   "execution_count": 9,
   "id": "c2af1301",
   "metadata": {},
   "outputs": [
    {
     "data": {
      "text/plain": [
       "<seaborn.axisgrid.FacetGrid at 0x1493d2b20>"
      ]
     },
     "execution_count": 9,
     "metadata": {},
     "output_type": "execute_result"
    },
    {
     "data": {
      "image/png": "[encoded data removed]",
      "text/plain": [
       "<Figure size 500x500 with 1 Axes>"
      ]
     },
     "metadata": {},
     "output_type": "display_data"
    }
   ],
   "source": [
    "sns.catplot(y='Category', data=df, kind='count')"
   ]
  },
  {
   "cell_type": "code",
   "execution_count": 10,
   "id": "e8f71b7a",
   "metadata": {},
   "outputs": [
    {
     "name": "stdout",
     "output_type": "stream",
     "text": [
      "The ratio of non-spam to spam is 6.46: 1\n"
     ]
    }
   ],
   "source": [
    "countY, countX = df.Category.value_counts()\n",
    "print(\"The ratio of non-spam to spam is %.2f: 1\" % (countY/countX))"
   ]
  },
  {
   "cell_type": "markdown",
   "id": "b6998c90",
   "metadata": {},
   "source": [
    "As you can see, the data is quite imbalanced between non-spam and spam messages, which may affect the accuracy of any machine learning models we will use to predict the type of message. We will do some more data cleaning and then do exploratory data analysis."
   ]
  },
  {
   "cell_type": "markdown",
   "id": "a58b8a80",
   "metadata": {},
   "source": [
    "## Data Cleaning"
   ]
  },
  {
   "cell_type": "markdown",
   "id": "6954b35e",
   "metadata": {},
   "source": [
    "#### Changing of 'ham' and 'spam' to 0 and 1 respectively"
   ]
  },
  {
   "cell_type": "code",
   "execution_count": 11,
   "id": "6a3259d0",
   "metadata": {},
   "outputs": [
    {
     "name": "stdout",
     "output_type": "stream",
     "text": [
      "0    4825\n",
      "1     747\n",
      "Name: Category, dtype: int64\n"
     ]
    }
   ],
   "source": [
    "df.loc[df.Category == 'ham', 'Category'] = 0\n",
    "df.loc[df.Category == 'spam', 'Category'] = 1\n",
    "print(df.Category.value_counts())"
   ]
  },
  {
   "cell_type": "markdown",
   "id": "7bc92691",
   "metadata": {},
   "source": [
    "#### Removal of duplicates in SMS Messages"
   ]
  },
  {
   "cell_type": "code",
   "execution_count": 12,
   "id": "f9022752",
   "metadata": {},
   "outputs": [
    {
     "data": {
      "text/plain": [
       "False    5169\n",
       "True      403\n",
       "dtype: int64"
      ]
     },
     "execution_count": 12,
     "metadata": {},
     "output_type": "execute_result"
    }
   ],
   "source": [
    "df.duplicated(subset=['Message']).value_counts()"
   ]
  },
  {
   "cell_type": "markdown",
   "id": "f9113847",
   "metadata": {},
   "source": [
    "As seen, there are 403 duplicates in the dataset and have to be removed in order to prevent skewing the data.\n"
   ]
  },
  {
   "cell_type": "code",
   "execution_count": 13,
   "id": "f5f85982",
   "metadata": {
    "scrolled": true
   },
   "outputs": [
    {
     "name": "stdout",
     "output_type": "stream",
     "text": [
      "(5169, 2)\n",
      "0    4516\n",
      "1     653\n",
      "Name: Category, dtype: int64\n"
     ]
    }
   ],
   "source": [
    "df = df.drop_duplicates(subset=['Message'], keep = 'last')\n",
    "df.reset_index(drop=True, inplace=True)\n",
    "\n",
    "print(df.shape)\n",
    "print(df[\"Category\"].value_counts())"
   ]
  },
  {
   "cell_type": "code",
   "execution_count": 14,
   "id": "e2bad38f",
   "metadata": {},
   "outputs": [
    {
     "data": {
      "text/html": [
       "<div>\n",
       "<style scoped>\n",
       "    .dataframe tbody tr th:only-of-type {\n",
       "        vertical-align: middle;\n",
       "    }\n",
       "\n",
       "    .dataframe tbody tr th {\n",
       "        vertical-align: top;\n",
       "    }\n",
       "\n",
       "    .dataframe thead th {\n",
       "        text-align: right;\n",
       "    }\n",
       "</style>\n",
       "<table border=\"1\" class=\"dataframe\">\n",
       "  <thead>\n",
       "    <tr style=\"text-align: right;\">\n",
       "      <th></th>\n",
       "      <th>Category</th>\n",
       "      <th>Message</th>\n",
       "    </tr>\n",
       "  </thead>\n",
       "  <tbody>\n",
       "    <tr>\n",
       "      <th>count</th>\n",
       "      <td>5169</td>\n",
       "      <td>5169</td>\n",
       "    </tr>\n",
       "    <tr>\n",
       "      <th>unique</th>\n",
       "      <td>2</td>\n",
       "      <td>5169</td>\n",
       "    </tr>\n",
       "    <tr>\n",
       "      <th>top</th>\n",
       "      <td>0</td>\n",
       "      <td>Go until jurong point, crazy.. Available only ...</td>\n",
       "    </tr>\n",
       "    <tr>\n",
       "      <th>freq</th>\n",
       "      <td>4516</td>\n",
       "      <td>1</td>\n",
       "    </tr>\n",
       "  </tbody>\n",
       "</table>\n",
       "</div>"
      ],
      "text/plain": [
       "        Category                                            Message\n",
       "count       5169                                               5169\n",
       "unique         2                                               5169\n",
       "top            0  Go until jurong point, crazy.. Available only ...\n",
       "freq        4516                                                  1"
      ]
     },
     "execution_count": 14,
     "metadata": {},
     "output_type": "execute_result"
    }
   ],
   "source": [
    "df.describe()"
   ]
  },
  {
   "cell_type": "code",
   "execution_count": 15,
   "id": "08eafa86",
   "metadata": {},
   "outputs": [
    {
     "data": {
      "text/plain": [
       "<seaborn.axisgrid.FacetGrid at 0x1496d6a90>"
      ]
     },
     "execution_count": 15,
     "metadata": {},
     "output_type": "execute_result"
    },
    {
     "data": {
      "image/png": "[encoded data removed]",
      "text/plain": [
       "<Figure size 500x500 with 1 Axes>"
      ]
     },
     "metadata": {},
     "output_type": "display_data"
    }
   ],
   "source": [
    "sns.catplot(y='Category', data=df, kind='count') #new catplot after removing the duplicates"
   ]
  },
  {
   "cell_type": "code",
   "execution_count": 16,
   "id": "1d37873a",
   "metadata": {},
   "outputs": [
    {
     "name": "stdout",
     "output_type": "stream",
     "text": [
      "The ratio of non-spam to spam is 6.92: 1\n"
     ]
    }
   ],
   "source": [
    "countY, countX = df.Category.value_counts()\n",
    "print(\"The ratio of non-spam to spam is %.2f: 1\" % (countY/countX))"
   ]
  },
  {
   "cell_type": "markdown",
   "id": "b25d0ff7",
   "metadata": {},
   "source": [
    "The ratio of non-spam to spam is even higher now. This means that a majority of the duplicated messages that were removed were spam. Makes sense, since the same spam message is often sent to many people at once."
   ]
  },
  {
   "cell_type": "markdown",
   "id": "13e75506",
   "metadata": {},
   "source": [
    "## Data Preparation\n",
    "\n",
    "Generating Stop Words"
   ]
  },
  {
   "cell_type": "code",
   "execution_count": 17,
   "id": "182621e0",
   "metadata": {
    "scrolled": true
   },
   "outputs": [
    {
     "name": "stdout",
     "output_type": "stream",
     "text": [
      "['also', 'seeming', 'whom', 'we', 'should', 'mine', 'something', 'have', 'my', 'whereby', 'by', 'find', 'onto', 'hundred', 'besides', 'however', 'who', 'here', 'his', 'less', 'throughout', 'about', 'itself', 'do', 'must', 'often', 'across', 'six', 'already', 'him', 'fire', 'so', 'there', 'how', 'almost', 'had', 'anything', 'down', 'the', 'only', 'formerly', 'enough', 'whether', 'became', 'around', 'detail', 'hasnt', 'out', 'de', 'that', 'serious', 'see', 'nevertheless', 'against', 'whence', 'fifty', 'with', 'part', 'anyone', 'amount', 'former', 'from', 'cant', 'un', 'nothing', 'eg', 'afterwards', 'neither', 'otherwise', 'above', 'whither', 'over', 'nowhere', 'full', 'next', 'ours', 'ltd', 'could', 'further', 'bill', 'become', 'are', 'sincere', 'together', 'anyway', 'under', 'thereupon', 'not', 'elsewhere', 'than', 'thence', 'get', 'they', 'whenever', 'in', 'well', 'thick', 'too', 'whatever', 'noone', 'name', 'first', 'three', 'on', 'then', 'twelve', 'therefore', 'every', 'perhaps', 'twenty', 'everywhere', 'it', 'everyone', 'again', 'somehow', 'sometimes', 'system', 'whose', 'con', 'more', 'will', 'hereafter', 'she', 'and', 'front', 'anywhere', 'show', 'herein', 'found', 'may', 'another', 'them', 'many', 'sixty', 'her', 'therein', 'others', 'along', 'since', 'becomes', 'is', 'being', 'whereas', 'our', 'within', 'thereby', 'no', 'couldnt', 'bottom', 'these', 'because', 'several', 'hereby', 'amoungst', 'wherever', 'whereupon', 'ten', 'never', 'am', 'always', 'wherein', 'beside', 're', 'between', 'thereafter', 'etc', 'same', 'whole', 'this', 'me', 'or', 'those', 'done', 'although', 'any', 'thru', 'everything', 'indeed', 'for', 'namely', 'one', 'thin', 'even', 'among', 'herself', 'whoever', 'yet', 'without', 'though', 'else', 'fill', 'himself', 'seemed', 'myself', 'keep', 'nine', 'least', 'still', 'empty', 'seems', 'toward', 'rather', 'its', 'before', 'four', 'third', 'once', 'ever', 'below', 'take', 'somewhere', 'through', 'be', 'ie', 'side', 'themselves', 'after', 'none', 'an', 'latterly', 'while', 'yours', 'sometime', 'move', 'two', 'which', 'off', 'towards', 'their', 'co', 'up', 'you', 'he', 'last', 'into', 'whereafter', 'via', 'give', 'interest', 'beyond', 'both', 'your', 'nor', 'why', 'meanwhile', 'some', 'yourselves', 'hereupon', 'back', 'hence', 'been', 'forty', 'describe', 'someone', 'inc', 'all', 'where', 'five', 'yourself', 'hers', 'becoming', 'put', 'other', 'due', 'amongst', 'eleven', 'alone', 'were', 'except', 'as', 'made', 'if', 'until', 'call', 'most', 'thus', 'mostly', 'go', 'own', 'ourselves', 'us', 'behind', 'now', 'mill', 'moreover', 'eight', 'can', 'to', 'few', 'much', 'top', 'latter', 'when', 'cannot', 'would', 'please', 'such', 'has', 'a', 'seem', 'of', 'each', 'per', 'cry', 'anyhow', 'was', 'at', 'either', 'beforehand', 'but', 'very', 'nobody', 'upon', 'during', 'fifteen', 'i', 'might', 'what', 'no', 'also', 'did', 'which', 'off', 'whom', 'these', 'because', 'r', 'just', \"wouldn't\", 'we', 'their', 'should', 'up', 'you', 'otherwise', 'he', 'above', 'http', 'into', 'over', \"they've\", 'have', 'my', 'both', 'ours', \"he'll\", 'am', 'your', 'by', 'could', 'further', 'nor', 'why', 'some', \"you've\", \"we're\", 'are', \"how's\", 'between', 'does', \"i'll\", 'yourselves', \"you'd\", \"weren't\", \"why's\", \"you'll\", \"they'll\", 'under', \"it's\", 'hence', 'not', 'been', 'however', 'who', 'same', 'than', 'all', \"i'm\", 'where', 'k', 'get', 'here', 'this', 'yourself', 'hers', 'they', \"where's\", 'other', 'his', 'me', 'or', 'those', 'about', 'our', 'itself', 'do', 'in', 'too', \"doesn't\", 'com', 'any', 'ought', \"she'd\", 'him', 'were', \"i've\", 'theirs', 'so', 'as', \"won't\", 'there', \"isn't\", 'for', \"they'd\", \"we'd\", \"here's\", \"she'll\", 'on', 'if', 'then', 'until', 'most', \"they're\", 'how', \"haven't\", \"we've\", 'therefore', \"he'd\", 'www', \"can't\", 'had', 'herself', \"you're\", 'own', 'ourselves', 'it', \"what's\", 'again', \"she's\", \"don't\", 'to', 'can', \"mustn't\", 'down', 'the', \"didn't\", 'else', 'like', 'himself', 'only', 'myself', 'few', \"i'd\", 'more', \"there's\", 'she', 'and', 'when', 'out', \"when's\", 'cannot', \"shouldn't\", 'would', 'its', 'before', \"we'll\", \"that's\", \"let's\", 'once', \"shan't\", 'such', 'that', 'ever', 'below', 'has', 'a', 'through', 'be', 'of', 'them', 'each', 'against', 'themselves', 'her', 'after', \"couldn't\", 'was', 'an', 'shall', 'at', 'doing', 'having', 'since', 'with', \"hadn't\", 'is', 'but', 'while', \"wasn't\", 'very', 'yours', 'what', \"hasn't\", \"who's\", 'during', 'being', 'i', \"aren't\", \"he's\", 'from', 'u']\n"
     ]
    }
   ],
   "source": [
    "stopwords = list(ENGLISH_STOP_WORDS) + list(STOPWORDS) + ['u']\n",
    "print(stopwords)"
   ]
  },
  {
   "cell_type": "markdown",
   "id": "023aa470",
   "metadata": {},
   "source": [
    "\n",
    "#### Phone Number Detection\n",
    "\n",
    "Spam messages often contain a link or phone number which lures victims into giving away their private information. Let's see if this is reflected in our dataset.\n",
    "\n",
    "Looking through the data, there are many instances when phone numbers were present in the message and the message was classified as spam."
   ]
  },
  {
   "cell_type": "code",
   "execution_count": 18,
   "id": "9959e5b4",
   "metadata": {},
   "outputs": [
    {
     "data": {
      "text/html": [
       "<div>\n",
       "<style scoped>\n",
       "    .dataframe tbody tr th:only-of-type {\n",
       "        vertical-align: middle;\n",
       "    }\n",
       "\n",
       "    .dataframe tbody tr th {\n",
       "        vertical-align: top;\n",
       "    }\n",
       "\n",
       "    .dataframe thead th {\n",
       "        text-align: right;\n",
       "    }\n",
       "</style>\n",
       "<table border=\"1\" class=\"dataframe\">\n",
       "  <thead>\n",
       "    <tr style=\"text-align: right;\">\n",
       "      <th></th>\n",
       "      <th>Category</th>\n",
       "      <th>Message</th>\n",
       "      <th>Contain_HP</th>\n",
       "    </tr>\n",
       "  </thead>\n",
       "  <tbody>\n",
       "    <tr>\n",
       "      <th>0</th>\n",
       "      <td>0</td>\n",
       "      <td>Go until jurong point, crazy.. Available only ...</td>\n",
       "      <td>False</td>\n",
       "    </tr>\n",
       "    <tr>\n",
       "      <th>1</th>\n",
       "      <td>0</td>\n",
       "      <td>Ok lar... Joking wif u oni...</td>\n",
       "      <td>False</td>\n",
       "    </tr>\n",
       "    <tr>\n",
       "      <th>2</th>\n",
       "      <td>0</td>\n",
       "      <td>U dun say so early hor... U c already then say...</td>\n",
       "      <td>False</td>\n",
       "    </tr>\n",
       "    <tr>\n",
       "      <th>3</th>\n",
       "      <td>0</td>\n",
       "      <td>Nah I don't think he goes to usf, he lives aro...</td>\n",
       "      <td>False</td>\n",
       "    </tr>\n",
       "    <tr>\n",
       "      <th>4</th>\n",
       "      <td>1</td>\n",
       "      <td>FreeMsg Hey there darling it's been 3 week's n...</td>\n",
       "      <td>False</td>\n",
       "    </tr>\n",
       "    <tr>\n",
       "      <th>5</th>\n",
       "      <td>0</td>\n",
       "      <td>Even my brother is not like to speak with me. ...</td>\n",
       "      <td>False</td>\n",
       "    </tr>\n",
       "    <tr>\n",
       "      <th>6</th>\n",
       "      <td>0</td>\n",
       "      <td>I'm gonna be home soon and i don't want to tal...</td>\n",
       "      <td>False</td>\n",
       "    </tr>\n",
       "    <tr>\n",
       "      <th>7</th>\n",
       "      <td>0</td>\n",
       "      <td>I've been searching for the right words to tha...</td>\n",
       "      <td>False</td>\n",
       "    </tr>\n",
       "    <tr>\n",
       "      <th>8</th>\n",
       "      <td>0</td>\n",
       "      <td>I HAVE A DATE ON SUNDAY WITH WILL!!</td>\n",
       "      <td>False</td>\n",
       "    </tr>\n",
       "    <tr>\n",
       "      <th>9</th>\n",
       "      <td>1</td>\n",
       "      <td>XXXMobileMovieClub: To use your credit, click ...</td>\n",
       "      <td>False</td>\n",
       "    </tr>\n",
       "  </tbody>\n",
       "</table>\n",
       "</div>"
      ],
      "text/plain": [
       "  Category                                            Message  Contain_HP\n",
       "0        0  Go until jurong point, crazy.. Available only ...       False\n",
       "1        0                   Ok lar... Joking wif u oni...          False\n",
       "2        0  U dun say so early hor... U c already then say...       False\n",
       "3        0  Nah I don't think he goes to usf, he lives aro...       False\n",
       "4        1  FreeMsg Hey there darling it's been 3 week's n...       False\n",
       "5        0  Even my brother is not like to speak with me. ...       False\n",
       "6        0  I'm gonna be home soon and i don't want to tal...       False\n",
       "7        0  I've been searching for the right words to tha...       False\n",
       "8        0             I HAVE A DATE ON SUNDAY WITH WILL!!          False\n",
       "9        1  XXXMobileMovieClub: To use your credit, click ...       False"
      ]
     },
     "execution_count": 18,
     "metadata": {},
     "output_type": "execute_result"
    }
   ],
   "source": [
    "pattern = r'\\d{6,}' ## Detect messages containing a string of >=6 continuous numbers\n",
    "\n",
    "## Create a new column to store the results of the pattern match\n",
    "df['Contain_HP'] = df['Message'].apply(lambda x: bool(re.search(pattern, x)))\n",
    "\n",
    "df.head(10)"
   ]
  },
  {
   "cell_type": "code",
   "execution_count": 19,
   "id": "e8f46a3e",
   "metadata": {},
   "outputs": [
    {
     "data": {
      "text/plain": [
       "False    4801\n",
       "True      368\n",
       "Name: Contain_HP, dtype: int64"
      ]
     },
     "execution_count": 19,
     "metadata": {},
     "output_type": "execute_result"
    }
   ],
   "source": [
    "df['Contain_HP'].value_counts()"
   ]
  },
  {
   "cell_type": "code",
   "execution_count": null,
   "id": "6bd3577f",
   "metadata": {},
   "outputs": [],
   "source": []
  }
 ],
 "metadata": {
  "kernelspec": {
   "display_name": "Python 3 (ipykernel)",
   "language": "python",
   "name": "python3"
  },
  "language_info": {
   "codemirror_mode": {
    "name": "ipython",
    "version": 3
   },
   "file_extension": ".py",
   "mimetype": "text/x-python",
   "name": "python",
   "nbconvert_exporter": "python",
   "pygments_lexer": "ipython3",
   "version": "3.8.10"
  }
 },
 "nbformat": 4,
 "nbformat_minor": 5
}
