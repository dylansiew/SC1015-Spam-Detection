{
 "cells": [
  {
   "cell_type": "markdown",
   "id": "450d8924",
   "metadata": {},
   "source": [
    "## Import Relevant packages"
   ]
  },
  {
   "cell_type": "code",
   "execution_count": 1,
   "id": "1b50c009",
   "metadata": {},
   "outputs": [],
   "source": [
    "import pandas as pd\n",
    "import numpy as np\n",
    "import os\n",
    "\n",
    "# For Data Visualisation\n",
    "import seaborn as sns\n",
    "import matplotlib.pyplot as plt\n",
    "from sklearn.metrics import confusion_matrix, accuracy_score\n",
    "from collections import Counter\n",
    "\n",
    "# For Data Preparation\n",
    "from wordcloud import WordCloud, STOPWORDS\n",
    "from sklearn.feature_extraction.text import ENGLISH_STOP_WORDS\n",
    "from sklearn.tree import plot_tree\n",
    "import re\n",
    "\n",
    "# For Machine Learning\n",
    "from sklearn.model_selection import train_test_split\n",
    "from sklearn.feature_extraction.text import TfidfVectorizer\n",
    "from sklearn.naive_bayes import MultinomialNB\n",
    "from sklearn.svm import SVC\n",
    "from sklearn.ensemble import RandomForestClassifier\n",
    "from __future__ import division\n",
    "from sklearn.linear_model import LogisticRegression\n",
    "from sklearn.model_selection import cross_val_score, KFold\n",
    "\n",
    "# For Evaluation of Results\n",
    "from sklearn.metrics import f1_score\n",
    "from sklearn import metrics\n",
    "\n",
    "# For Product\n",
    "from IPython.display import HTML\n",
    "from termcolor import colored\n",
    "from pyfiglet import Figlet\n",
    "\n",
    "pd.options.mode.chained_assignment = None"
   ]
  },
  {
   "cell_type": "markdown",
   "id": "aa55fc05",
   "metadata": {},
   "source": [
    "# Spam Buster 3000"
   ]
  },
  {
   "cell_type": "code",
   "execution_count": 2,
   "id": "a6c8542b",
   "metadata": {
    "scrolled": false
   },
   "outputs": [
    {
     "name": "stdout",
     "output_type": "stream",
     "text": [
      "           _____                          ____             __           \n",
      "          / ___/____  ____ _____ ___     / __ )__  _______/ /____  _____\n",
      "          \\__ \\/ __ \\/ __ `/ __ `__ \\   / __  / / / / ___/ __/ _ \\/ ___/\n",
      "         ___/ / /_/ / /_/ / / / / / /  / /_/ / /_/ (__  ) /_/  __/ /    \n",
      "        /____/ .___/\\__,_/_/ /_/ /_/  /_____/\\__,_/____/\\__/\\___/_/     \n",
      "            /_/                                                         \n",
      "                              _____ ____  ____  ____ \n",
      "                             |__  // __ \\/ __ \\/ __ \\\n",
      "                              /_ </ / / / / / / / / /\n",
      "                            ___/ / /_/ / /_/ / /_/ / \n",
      "                           /____/\\____/\\____/\\____/  \n",
      "                                                     \n",
      "\u001b[0m\n"
     ]
    }
   ],
   "source": [
    "f = Figlet(font = 'slant', justify=\"center\")\n",
    "print(colored(f.renderText(\"Spam Buster 3000\")))"
   ]
  },
  {
   "cell_type": "markdown",
   "id": "037324ab",
   "metadata": {},
   "source": [
    "### Try out Spam Buster 3000 below! Type in the message you received and let it decide if it is Spam!\n",
    "\n",
    "#### Description: \n",
    "\n",
    "The ultimate spam detection tool designed to keep your inbox free of unwanted and harmful messages. With its powerful model ensemble of Naive Bayes, SVM, RFC, and Logistic Regression, Spam Buster 3000 constantly updates its dataframe with every new user input to improve accuracy and robustness over time. Its advanced algorithms allow for a comprehensive analysis of incoming data, ensuring that no spam goes unnoticed. Spam Buster 3000 is easy to use and highly customizable, giving you full control over how you want to manage your inbox. Say goodbye to spam once and for all with Spam Buster 3000.\n",
    "\n",
    "\n",
    "#### Sample Spam: \n",
    "\n",
    "Best 0ffer L0AN\n",
    "Personal & Business L0AN\n",
    "Accept  Blacklist\n",
    "N0 Hidden Fees\n",
    "N0 Guarantor\n",
    "Private & Confidential\n",
    "https://wa.me/84164822\n",
    "\n",
    "#### Sample Ham: \n",
    "\n",
    "Good Morning Janice! Excited to see you today!\n",
    "\n"
   ]
  },
  {
   "cell_type": "code",
   "execution_count": 4,
   "id": "c339000e",
   "metadata": {
    "scrolled": true
   },
   "outputs": [
    {
     "name": "stdout",
     "output_type": "stream",
     "text": [
      "SPAM BUSTER 3000 (enter 'quit' to exit):\there\n",
      "            __  __           _               _____       ____     __\n",
      "            \\ \\/ /___  __  _( )________     / ___/____ _/ __/__  / /\n",
      "             \\  / __ \\/ / / /// ___/ _ \\    \\__ \\/ __ `/ /_/ _ \\/ / \n",
      "             / / /_/ / /_/ / / /  /  __/   ___/ / /_/ / __/  __/_/  \n",
      "            /_/\\____/\\__,_/ /_/   \\___/   /____/\\__,_/_/  \\___(_)   \n",
      "                                                                    \n",
      "\u001b[0m\n",
      "We appreciate your feedback: 😀\n",
      "Was it a correct prediction? (Y/N)\ty\n",
      "SPAM BUSTER 3000 (enter 'quit' to exit):\tquit\n",
      "       ________                __                           ____          \n",
      "      /_  __/ /_  ____ _____  / /__   __  ______  __  __   / __/___  _____\n",
      "       / / / __ \\/ __ `/ __ \\/ //_/  / / / / __ \\/ / / /  / /_/ __ \\/ ___/\n",
      "      / / / / / / /_/ / / / / ,<    / /_/ / /_/ / /_/ /  / __/ /_/ / /    \n",
      "     /_/ /_/ /_/\\__,_/_/ /_/_/|_|   \\__, /\\____/\\__,_/  /_/  \\____/_/     \n",
      "                                   /____/                                 \n",
      "                         _                _____                     \n",
      "             __  _______(_)___  ____ _   / ___/____  ____ _____ ___ \n",
      "            / / / / ___/ / __ \\/ __ `/   \\__ \\/ __ \\/ __ `/ __ `__ \\\n",
      "           / /_/ (__  ) / / / / /_/ /   ___/ / /_/ / /_/ / / / / / /\n",
      "           \\__,_/____/_/_/ /_/\\__, /   /____/ .___/\\__,_/_/ /_/ /_/ \n",
      "                             /____/        /_/                      \n",
      "            ____             __               _____ ____  ____  ____  __\n",
      "           / __ )__  _______/ /____  _____   |__  // __ \\/ __ \\/ __ \\/ /\n",
      "          / __  / / / / ___/ __/ _ \\/ ___/    /_ </ / / / / / / / / / / \n",
      "         / /_/ / /_/ (__  ) /_/  __/ /      ___/ / /_/ / /_/ / /_/ /_/  \n",
      "        /_____/\\__,_/____/\\__/\\___/_/      /____/\\____/\\____/\\____(_)   \n",
      "                                                                        \n",
      "\u001b[0m\n"
     ]
    }
   ],
   "source": [
    "traindf = pd.read_csv('train.csv')\n",
    "\n",
    "cv = TfidfVectorizer(min_df = 1, stop_words='english')\n",
    "pattern = r'\\d{6,}'\n",
    "traindf['Contain_HP'] = traindf['Message'].apply(lambda x: bool(re.search(pattern, x)))\n",
    "traindf = traindf.drop('Unnamed: 0', axis=1)\n",
    "\n",
    "x_input = cv.fit_transform(traindf.Message)\n",
    "\n",
    "mnb_nb = MultinomialNB()\n",
    "y_input = traindf.Category.astype(int)\n",
    "\n",
    "mnb_nb.fit(x_input, y_input)\n",
    "\n",
    "classifier_svc = SVC(random_state = 0)\n",
    "classifier_svc.fit(x_input, y_input) \n",
    "\n",
    "classifier_rfc = RandomForestClassifier()\n",
    "classifier_rfc.fit(x_input, y_input)\n",
    "\n",
    "x_input_combined = pd.concat([pd.DataFrame(x_input.toarray()), traindf['Contain_HP'].reset_index(drop=True)], axis=1)\n",
    "\n",
    "lr = LogisticRegression()\n",
    "x_input_combined.columns = x_input_combined.columns.astype(str)\n",
    "lr.fit(x_input_combined, y_input)\n",
    "\n",
    "while 1:\n",
    "    message = input(\"SPAM BUSTER 3000 (enter 'quit' to exit):\\t\")\n",
    "    if message == 'quit': break\n",
    "    buster_dict = {\"Message\": [message]}\n",
    "    busterdf = pd.DataFrame.from_dict(buster_dict)\n",
    "    busterdf['Contain_HP'] = busterdf['Message'].apply(lambda x: bool(re.search(pattern, x)))\n",
    "    bustercv = cv.transform(busterdf.Message)\n",
    "    buster_combined = pd.concat([pd.DataFrame(bustercv.toarray()), busterdf['Contain_HP'].reset_index(drop=True)], axis=1)\n",
    "    buster_combined.columns = buster_combined.columns.astype(str)\n",
    "\n",
    "    buster_nb = mnb_nb.predict(bustercv)\n",
    "    buster_svc = classifier_svc.predict(bustercv)\n",
    "    buster_rfc = classifier_rfc.predict(bustercv)\n",
    "    buster_lr = lr.predict(buster_combined)\n",
    "    buster_score = buster_nb[0] + buster_svc[0] + buster_rfc[0] + buster_lr[0]\n",
    "    if buster_score > 0:\n",
    "        messagetoprint = 'SPAM ALERT!'\n",
    "        pred = 1\n",
    "    else:\n",
    "        messagetoprint = \"You're Safe!\"\n",
    "        pred = 0\n",
    "\n",
    "    print(colored(f.renderText(messagetoprint)))\n",
    "    print(\"We appreciate your feedback: \\U0001f917\")\n",
    "    correct_pred = str(input(\"Was it a correct prediction? (Y/N)\\t\")).lower()\n",
    "    while 1:\n",
    "        if correct_pred == 'y':\n",
    "            newrow = {\"Category\" : pred, \"Message\":message,\"Contain_HP\" : bool(re.search(pattern, message))}\n",
    "            print(\"We are glad Spam Buster 3000 helped you! \\U0001f970\")\n",
    "            break\n",
    "        elif correct_pred == 'n':\n",
    "            print(\"Thank you for your feedback and helping make Spam Buster 3000 better! \\U0001f972\")\n",
    "            if pred == 1:\n",
    "                newrow = {\"Category\" : 0, \"Message\":message,\"Contain_HP\":bool(re.search(pattern, message))}\n",
    "            else:\n",
    "                newrow = {\"Category\" : 1, \"Message\":message,\"Contain_HP\":bool(re.search(pattern, message))}\n",
    "            break\n",
    "        else: correct_pred = str(input(\"Was it a correct prediction? (Y/N)\\t\")).lower()\n",
    "    traindf.loc[len(traindf)] = newrow\n",
    "\n",
    "try:\n",
    "    os.remove(\"train.csv\")\n",
    "except:\n",
    "    pass\n",
    "traindf.to_csv(\"train.csv\")\n",
    "print(colored(f.renderText(\"Thank you for using Spam Buster 3000!\")))\n"
   ]
  },
  {
   "cell_type": "code",
   "execution_count": null,
   "id": "9d82f4c6",
   "metadata": {},
   "outputs": [],
   "source": []
  }
 ],
 "metadata": {
  "kernelspec": {
   "display_name": "Python 3 (ipykernel)",
   "language": "python",
   "name": "python3"
  },
  "language_info": {
   "codemirror_mode": {
    "name": "ipython",
    "version": 3
   },
   "file_extension": ".py",
   "mimetype": "text/x-python",
   "name": "python",
   "nbconvert_exporter": "python",
   "pygments_lexer": "ipython3",
   "version": "3.8.10"
  }
 },
 "nbformat": 4,
 "nbformat_minor": 5
}
